{
 "cells": [
  {
   "cell_type": "markdown",
   "metadata": {},
   "source": [
    "# Laboratorio 2: Armado de un esquema de aprendizaje automático\n",
    "\n",
    "En el laboratorio final se espera que puedan poner en práctica los conocimientos adquiridos en el curso, trabajando con un conjunto de datos de clasificación.\n",
    "\n",
    "El objetivo es que se introduzcan en el desarrollo de un esquema para hacer tareas de aprendizaje automático: selección de un modelo, ajuste de hiperparámetros y evaluación.\n",
    "\n",
    "El conjunto de datos a utilizar está en `./data/loan_data.csv`. Si abren el archivo verán que al principio (las líneas que empiezan con `#`) describen el conjunto de datos y sus atributos (incluyendo el atributo de etiqueta o clase).\n",
    "\n",
    "Se espera que hagan uso de las herramientas vistas en el curso. Se espera que hagan uso especialmente de las herramientas brindadas por `scikit-learn`."
   ]
  },
  {
   "cell_type": "code",
   "execution_count": 3,
   "metadata": {},
   "outputs": [],
   "source": [
    "import numpy as np\n",
    "import pandas as pd\n",
    "\n",
    "# TODO: Agregar las librerías que hagan falta\n",
    "from sklearn.model_selection import train_test_split, GridSearchCV\n",
    "from sklearn.linear_model import SGDClassifier\n",
    "from sklearn.metrics import classification_report, confusion_matrix, accuracy_score, precision_score, recall_score, f1_score\n",
    "from sklearn.tree import DecisionTreeClassifier\n",
    "from utils import plot_confusion_matrix"
   ]
  },
  {
   "cell_type": "markdown",
   "metadata": {},
   "source": [
    "## Carga de datos y división en entrenamiento y evaluación\n",
    "\n",
    "La celda siguiente se encarga de la carga de datos (haciendo uso de pandas). Estos serán los que se trabajarán en el resto del laboratorio."
   ]
  },
  {
   "cell_type": "code",
   "execution_count": 4,
   "metadata": {},
   "outputs": [],
   "source": [
    "dataset = pd.read_csv(\"./data/loan_data.csv\", comment=\"#\")\n",
    "\n",
    "# División entre instancias y etiquetas\n",
    "X, y = dataset.iloc[:, 1:], dataset.TARGET\n",
    "\n",
    "# división entre entrenamiento y evaluación\n",
    "X_train, X_test, y_train, y_test = train_test_split(X, y, test_size=0.2, random_state=0)"
   ]
  },
  {
   "cell_type": "code",
   "execution_count": 5,
   "metadata": {},
   "outputs": [
    {
     "data": {
      "text/html": [
       "<div>\n",
       "<style scoped>\n",
       "    .dataframe tbody tr th:only-of-type {\n",
       "        vertical-align: middle;\n",
       "    }\n",
       "\n",
       "    .dataframe tbody tr th {\n",
       "        vertical-align: top;\n",
       "    }\n",
       "\n",
       "    .dataframe thead th {\n",
       "        text-align: right;\n",
       "    }\n",
       "</style>\n",
       "<table border=\"1\" class=\"dataframe\">\n",
       "  <thead>\n",
       "    <tr style=\"text-align: right;\">\n",
       "      <th></th>\n",
       "      <th>TARGET</th>\n",
       "      <th>LOAN</th>\n",
       "      <th>MORTDUE</th>\n",
       "      <th>VALUE</th>\n",
       "      <th>YOJ</th>\n",
       "      <th>DEROG</th>\n",
       "      <th>DELINQ</th>\n",
       "      <th>CLAGE</th>\n",
       "      <th>NINQ</th>\n",
       "      <th>CLNO</th>\n",
       "      <th>DEBTINC</th>\n",
       "    </tr>\n",
       "  </thead>\n",
       "  <tbody>\n",
       "    <tr>\n",
       "      <th>0</th>\n",
       "      <td>0</td>\n",
       "      <td>4700</td>\n",
       "      <td>88026.0</td>\n",
       "      <td>115506.0</td>\n",
       "      <td>6.0</td>\n",
       "      <td>0.0</td>\n",
       "      <td>0.0</td>\n",
       "      <td>182.248332</td>\n",
       "      <td>0.0</td>\n",
       "      <td>27.0</td>\n",
       "      <td>29.209023</td>\n",
       "    </tr>\n",
       "    <tr>\n",
       "      <th>1</th>\n",
       "      <td>0</td>\n",
       "      <td>19300</td>\n",
       "      <td>39926.0</td>\n",
       "      <td>101208.0</td>\n",
       "      <td>4.0</td>\n",
       "      <td>0.0</td>\n",
       "      <td>0.0</td>\n",
       "      <td>140.051638</td>\n",
       "      <td>0.0</td>\n",
       "      <td>14.0</td>\n",
       "      <td>31.545694</td>\n",
       "    </tr>\n",
       "    <tr>\n",
       "      <th>2</th>\n",
       "      <td>0</td>\n",
       "      <td>5700</td>\n",
       "      <td>71556.0</td>\n",
       "      <td>79538.0</td>\n",
       "      <td>2.0</td>\n",
       "      <td>0.0</td>\n",
       "      <td>0.0</td>\n",
       "      <td>92.643085</td>\n",
       "      <td>0.0</td>\n",
       "      <td>15.0</td>\n",
       "      <td>41.210012</td>\n",
       "    </tr>\n",
       "    <tr>\n",
       "      <th>3</th>\n",
       "      <td>0</td>\n",
       "      <td>13000</td>\n",
       "      <td>44875.0</td>\n",
       "      <td>57713.0</td>\n",
       "      <td>0.0</td>\n",
       "      <td>1.0</td>\n",
       "      <td>0.0</td>\n",
       "      <td>184.990324</td>\n",
       "      <td>1.0</td>\n",
       "      <td>12.0</td>\n",
       "      <td>28.602076</td>\n",
       "    </tr>\n",
       "    <tr>\n",
       "      <th>4</th>\n",
       "      <td>0</td>\n",
       "      <td>19300</td>\n",
       "      <td>72752.0</td>\n",
       "      <td>106084.0</td>\n",
       "      <td>11.0</td>\n",
       "      <td>0.0</td>\n",
       "      <td>0.0</td>\n",
       "      <td>193.707100</td>\n",
       "      <td>1.0</td>\n",
       "      <td>13.0</td>\n",
       "      <td>30.686106</td>\n",
       "    </tr>\n",
       "  </tbody>\n",
       "</table>\n",
       "</div>"
      ],
      "text/plain": [
       "   TARGET   LOAN  MORTDUE     VALUE   YOJ  DEROG  DELINQ       CLAGE  NINQ  \\\n",
       "0       0   4700  88026.0  115506.0   6.0    0.0     0.0  182.248332   0.0   \n",
       "1       0  19300  39926.0  101208.0   4.0    0.0     0.0  140.051638   0.0   \n",
       "2       0   5700  71556.0   79538.0   2.0    0.0     0.0   92.643085   0.0   \n",
       "3       0  13000  44875.0   57713.0   0.0    1.0     0.0  184.990324   1.0   \n",
       "4       0  19300  72752.0  106084.0  11.0    0.0     0.0  193.707100   1.0   \n",
       "\n",
       "   CLNO    DEBTINC  \n",
       "0  27.0  29.209023  \n",
       "1  14.0  31.545694  \n",
       "2  15.0  41.210012  \n",
       "3  12.0  28.602076  \n",
       "4  13.0  30.686106  "
      ]
     },
     "execution_count": 5,
     "metadata": {},
     "output_type": "execute_result"
    }
   ],
   "source": [
    "dataset.head()"
   ]
  },
  {
   "cell_type": "code",
   "execution_count": 6,
   "metadata": {},
   "outputs": [
    {
     "data": {
      "text/plain": [
       "(1854, 11)"
      ]
     },
     "execution_count": 6,
     "metadata": {},
     "output_type": "execute_result"
    }
   ],
   "source": [
    "dataset.shape"
   ]
  },
  {
   "cell_type": "markdown",
   "metadata": {},
   "source": [
    "\n",
    "Documentación:\n",
    "\n",
    "- https://scikit-learn.org/stable/modules/generated/sklearn.model_selection.train_test_split.html"
   ]
  },
  {
   "cell_type": "markdown",
   "metadata": {},
   "source": [
    "## Ejercicio 1: Descripción de los Datos y la Tarea\n",
    "\n",
    "Responder las siguientes preguntas:\n",
    "\n",
    "1. ¿De qué se trata el conjunto de datos?\n",
    "2. ¿Cuál es la variable objetivo que hay que predecir? ¿Qué significado tiene?\n",
    "3. ¿Qué información (atributos) hay disponible para hacer la predicción?\n",
    "4. ¿Qué atributos imagina ud. que son los más determinantes para la predicción?\n",
    "\n",
    "**No hace falta escribir código para responder estas preguntas.**"
   ]
  },
  {
   "cell_type": "markdown",
   "metadata": {},
   "source": [
    "1. El conjunto de datos trata sobre préstamos y está basado en el conjunto de datos de Kaggle Home Equity. Este conjunto contiene información de referencia y de rendimiento de préstamos para 5,960 préstamos sobre el valor líquido de la vivienda recientes.\n",
    "\n",
    "2. La variable binaria a predecir es TARGET. Donde 0 indica que se completó el pago, y 1 que no se terminó de pagar la deuda.\n",
    "\n",
    "3. Los atributos disponibles para hacer la predicción son:\n",
    "\n",
    "+ LOAN: Monto de la solicitud de préstamo\n",
    "+ MORTDUE: Monto adeudado de la hipoteca existente\n",
    "+ VALUE: Valor de la propiedad actual\n",
    "+ YOJ: Años en el trabajo actual\n",
    "+ DEROG: Número de informes desfavorables importantes\n",
    "+ DELINQ: Número de líneas de crédito morosas\n",
    "+ CLAGE: Antigüedad de la línea comercial más antigua en meses\n",
    "+ NINQ: Número de líneas de crédito recientes\n",
    "+ CLNO: Número de líneas de crédito\n",
    "+ DEBTINC: Relación deuda-ingresos\n",
    "\n",
    "4. Consideramos que los atributos mas determinantes para realizar la predicción son los siguientes: LOAN, DELINQ, DEBTINC, MORTDUE, DEROG"
   ]
  },
  {
   "cell_type": "markdown",
   "metadata": {},
   "source": [
    "## Ejercicio 2: Predicción con Modelos Lineales\n",
    "\n",
    "En este ejercicio se entrenarán modelos lineales de clasificación para predecir la variable objetivo.\n",
    "\n",
    "Para ello, deberán utilizar la clase SGDClassifier de scikit-learn.\n",
    "\n",
    "Documentación:\n",
    "- https://scikit-learn.org/stable/modules/sgd.html\n",
    "- https://scikit-learn.org/stable/modules/generated/sklearn.linear_model.SGDClassifier.html\n"
   ]
  },
  {
   "cell_type": "markdown",
   "metadata": {},
   "source": [
    "### Ejercicio 2.1: SGDClassifier con hiperparámetros por defecto\n",
    "\n",
    "Entrenar y evaluar el clasificador SGDClassifier usando los valores por omisión de scikit-learn para todos los parámetros. Únicamente **fijar la semilla aleatoria** para hacer repetible el experimento.\n",
    "\n",
    "Evaluar sobre el conjunto de **entrenamiento** y sobre el conjunto de **evaluación**, reportando:\n",
    "- Accuracy\n",
    "- Precision\n",
    "- Recall\n",
    "- F1\n",
    "- matriz de confusión"
   ]
  },
  {
   "cell_type": "code",
   "execution_count": 7,
   "metadata": {},
   "outputs": [
    {
     "data": {
      "text/plain": [
       "SGDClassifier(random_state=11)"
      ]
     },
     "execution_count": 7,
     "metadata": {},
     "output_type": "execute_result"
    }
   ],
   "source": [
    "sgd_model = SGDClassifier(random_state = 11)\n",
    "sgd_model.fit(X_train, y_train)"
   ]
  },
  {
   "cell_type": "markdown",
   "metadata": {},
   "source": [
    "**Reporte sobre el conjunto de entrenamiento**"
   ]
  },
  {
   "cell_type": "code",
   "execution_count": 8,
   "metadata": {},
   "outputs": [
    {
     "name": "stdout",
     "output_type": "stream",
     "text": [
      "Metricas\n",
      "\n",
      "              precision    recall  f1-score   support\n",
      "\n",
      "           0       0.83      0.96      0.89      1232\n",
      "           1       0.22      0.05      0.08       251\n",
      "\n",
      "    accuracy                           0.81      1483\n",
      "   macro avg       0.52      0.51      0.49      1483\n",
      "weighted avg       0.73      0.81      0.76      1483\n",
      "\n",
      "Accuracy: 0.81\n",
      "Precision: 0.52\n",
      "Recall: 0.51\n",
      "F1 score: 0.49\n"
     ]
    },
    {
     "data": {
      "image/png": "[encoded data removed]",
      "text/plain": [
       "<Figure size 432x288 with 2 Axes>"
      ]
     },
     "metadata": {
      "needs_background": "light"
     },
     "output_type": "display_data"
    }
   ],
   "source": [
    "sgd_predict = sgd_model.predict(X_train)\n",
    "print('Metricas\\n')\n",
    "print(classification_report(y_train, sgd_predict,zero_division=0))\n",
    "cm = confusion_matrix(y_train, sgd_predict)\n",
    "plot_confusion_matrix(cm, [0,1])\n",
    "print(\"Accuracy:\", round(accuracy_score(y_train, sgd_predict), 2))\n",
    "print(\"Precision:\", round(precision_score(y_train, sgd_predict, average='macro'),2))\n",
    "print(\"Recall:\", round(recall_score(y_train, sgd_predict, average='macro'),2))\n",
    "print(\"F1 score:\", round(f1_score(y_train, sgd_predict, average='macro'),2))"
   ]
  },
  {
   "cell_type": "markdown",
   "metadata": {},
   "source": [
    "**Reporte sobre el conjunto de evaluación**"
   ]
  },
  {
   "cell_type": "code",
   "execution_count": 9,
   "metadata": {},
   "outputs": [
    {
     "name": "stdout",
     "output_type": "stream",
     "text": [
      "Metricas\n",
      "\n",
      "              precision    recall  f1-score   support\n",
      "\n",
      "           0       0.85      0.96      0.90       313\n",
      "           1       0.21      0.05      0.08        58\n",
      "\n",
      "    accuracy                           0.82       371\n",
      "   macro avg       0.53      0.51      0.49       371\n",
      "weighted avg       0.75      0.82      0.77       371\n",
      "\n",
      "Accuracy: 0.82\n",
      "Precision: 0.53\n",
      "Recall: 0.51\n",
      "F1 score: 0.49\n"
     ]
    },
    {
     "data": {
      "image/png": "[encoded data removed]",
      "text/plain": [
       "<Figure size 432x288 with 2 Axes>"
      ]
     },
     "metadata": {
      "needs_background": "light"
     },
     "output_type": "display_data"
    }
   ],
   "source": [
    "sgd_predict = sgd_model.predict(X_test)\n",
    "print('Metricas\\n')\n",
    "print(classification_report(y_test, sgd_predict,zero_division=0))\n",
    "cm = confusion_matrix(y_test, sgd_predict)\n",
    "plot_confusion_matrix(cm, [0,1])\n",
    "print(\"Accuracy:\", round(accuracy_score(y_test, sgd_predict), 2))\n",
    "print(\"Precision:\", round(precision_score(y_test, sgd_predict, average='macro'),2))\n",
    "print(\"Recall:\", round(recall_score(y_test, sgd_predict, average='macro'),2))\n",
    "print(\"F1 score:\", round(f1_score(y_test, sgd_predict, average='macro'),2))"
   ]
  },
  {
   "cell_type": "markdown",
   "metadata": {},
   "source": [
    "### Ejercicio 2.2: Ajuste de Hiperparámetros\n",
    "\n",
    "Seleccionar valores para los hiperparámetros principales del SGDClassifier. Como mínimo, probar diferentes funciones de loss, tasas de entrenamiento y tasas de regularización.\n",
    "\n",
    "Para ello, usar grid-search y 5-fold cross-validation sobre el conjunto de entrenamiento para explorar muchas combinaciones posibles de valores.\n",
    "\n",
    "Reportar accuracy promedio y varianza para todas las configuraciones.\n",
    "\n",
    "Para la mejor configuración encontrada, evaluar sobre el conjunto de **entrenamiento** y sobre el conjunto de **evaluación**, reportando:\n",
    "- Accuracy\n",
    "- Precision\n",
    "- Recall\n",
    "- F1\n",
    "- matriz de confusión\n",
    "\n",
    "Documentación:\n",
    "- https://scikit-learn.org/stable/modules/grid_search.html\n",
    "- https://scikit-learn.org/stable/modules/generated/sklearn.model_selection.GridSearchCV.html"
   ]
  },
  {
   "cell_type": "code",
   "execution_count": 10,
   "metadata": {},
   "outputs": [
    {
     "name": "stdout",
     "output_type": "stream",
     "text": [
      "Mejores hiperparametros:  {'eta0': 1, 'learning_rate': 'constant', 'loss': 'hinge', 'penalty': 'l2'}\n"
     ]
    }
   ],
   "source": [
    "param_grid = {'loss': ['hinge', 'log', 'modified_huber', 'squared_hinge', 'perceptron', 'squared_loss', 'huber', 'epsilon_insensitive', 'squared_epsilon_insensitive'],\n",
    "              'penalty': ['l2', 'l1', 'elasticnet'],\n",
    "              'learning_rate': ['constant', 'optimal', 'invscaling', 'adaptive'],\n",
    "              'eta0': [1,10,100]}\n",
    "\n",
    "gsCV = GridSearchCV(sgd_model, param_grid = param_grid, cv = 5, scoring = 'accuracy', n_jobs = -1).fit(X_train, y_train)\n",
    "best_model = gsCV.best_estimator_\n",
    "print('Mejores hiperparametros: ', gsCV.best_params_)"
   ]
  },
  {
   "cell_type": "code",
   "execution_count": 11,
   "metadata": {},
   "outputs": [
    {
     "data": {
      "text/html": [
       "<div>\n",
       "<style scoped>\n",
       "    .dataframe tbody tr th:only-of-type {\n",
       "        vertical-align: middle;\n",
       "    }\n",
       "\n",
       "    .dataframe tbody tr th {\n",
       "        vertical-align: top;\n",
       "    }\n",
       "\n",
       "    .dataframe thead th {\n",
       "        text-align: right;\n",
       "    }\n",
       "</style>\n",
       "<table border=\"1\" class=\"dataframe\">\n",
       "  <thead>\n",
       "    <tr style=\"text-align: right;\">\n",
       "      <th></th>\n",
       "      <th>param_loss</th>\n",
       "      <th>param_penalty</th>\n",
       "      <th>param_eta0</th>\n",
       "      <th>param_learning_rate</th>\n",
       "      <th>mean_test_score</th>\n",
       "      <th>std_test_score</th>\n",
       "      <th>rank_test_score</th>\n",
       "    </tr>\n",
       "  </thead>\n",
       "  <tbody>\n",
       "    <tr>\n",
       "      <th>0</th>\n",
       "      <td>hinge</td>\n",
       "      <td>l2</td>\n",
       "      <td>1</td>\n",
       "      <td>constant</td>\n",
       "      <td>0.830749</td>\n",
       "      <td>0.001259</td>\n",
       "      <td>1</td>\n",
       "    </tr>\n",
       "    <tr>\n",
       "      <th>1</th>\n",
       "      <td>hinge</td>\n",
       "      <td>l1</td>\n",
       "      <td>1</td>\n",
       "      <td>constant</td>\n",
       "      <td>0.572375</td>\n",
       "      <td>0.305837</td>\n",
       "      <td>200</td>\n",
       "    </tr>\n",
       "    <tr>\n",
       "      <th>2</th>\n",
       "      <td>hinge</td>\n",
       "      <td>elasticnet</td>\n",
       "      <td>1</td>\n",
       "      <td>constant</td>\n",
       "      <td>0.724670</td>\n",
       "      <td>0.210313</td>\n",
       "      <td>106</td>\n",
       "    </tr>\n",
       "    <tr>\n",
       "      <th>3</th>\n",
       "      <td>log</td>\n",
       "      <td>l2</td>\n",
       "      <td>1</td>\n",
       "      <td>constant</td>\n",
       "      <td>0.576203</td>\n",
       "      <td>0.312409</td>\n",
       "      <td>196</td>\n",
       "    </tr>\n",
       "    <tr>\n",
       "      <th>4</th>\n",
       "      <td>log</td>\n",
       "      <td>l1</td>\n",
       "      <td>1</td>\n",
       "      <td>constant</td>\n",
       "      <td>0.830749</td>\n",
       "      <td>0.001259</td>\n",
       "      <td>1</td>\n",
       "    </tr>\n",
       "    <tr>\n",
       "      <th>...</th>\n",
       "      <td>...</td>\n",
       "      <td>...</td>\n",
       "      <td>...</td>\n",
       "      <td>...</td>\n",
       "      <td>...</td>\n",
       "      <td>...</td>\n",
       "      <td>...</td>\n",
       "    </tr>\n",
       "    <tr>\n",
       "      <th>319</th>\n",
       "      <td>epsilon_insensitive</td>\n",
       "      <td>l1</td>\n",
       "      <td>100</td>\n",
       "      <td>adaptive</td>\n",
       "      <td>0.507203</td>\n",
       "      <td>0.097509</td>\n",
       "      <td>249</td>\n",
       "    </tr>\n",
       "    <tr>\n",
       "      <th>320</th>\n",
       "      <td>epsilon_insensitive</td>\n",
       "      <td>elasticnet</td>\n",
       "      <td>100</td>\n",
       "      <td>adaptive</td>\n",
       "      <td>0.462101</td>\n",
       "      <td>0.128869</td>\n",
       "      <td>278</td>\n",
       "    </tr>\n",
       "    <tr>\n",
       "      <th>321</th>\n",
       "      <td>squared_epsilon_insensitive</td>\n",
       "      <td>l2</td>\n",
       "      <td>100</td>\n",
       "      <td>adaptive</td>\n",
       "      <td>0.478142</td>\n",
       "      <td>0.089791</td>\n",
       "      <td>264</td>\n",
       "    </tr>\n",
       "    <tr>\n",
       "      <th>322</th>\n",
       "      <td>squared_epsilon_insensitive</td>\n",
       "      <td>l1</td>\n",
       "      <td>100</td>\n",
       "      <td>adaptive</td>\n",
       "      <td>0.484048</td>\n",
       "      <td>0.096076</td>\n",
       "      <td>260</td>\n",
       "    </tr>\n",
       "    <tr>\n",
       "      <th>323</th>\n",
       "      <td>squared_epsilon_insensitive</td>\n",
       "      <td>elasticnet</td>\n",
       "      <td>100</td>\n",
       "      <td>adaptive</td>\n",
       "      <td>0.523874</td>\n",
       "      <td>0.117108</td>\n",
       "      <td>243</td>\n",
       "    </tr>\n",
       "  </tbody>\n",
       "</table>\n",
       "<p>324 rows × 7 columns</p>\n",
       "</div>"
      ],
      "text/plain": [
       "                      param_loss param_penalty param_eta0 param_learning_rate  \\\n",
       "0                          hinge            l2          1            constant   \n",
       "1                          hinge            l1          1            constant   \n",
       "2                          hinge    elasticnet          1            constant   \n",
       "3                            log            l2          1            constant   \n",
       "4                            log            l1          1            constant   \n",
       "..                           ...           ...        ...                 ...   \n",
       "319          epsilon_insensitive            l1        100            adaptive   \n",
       "320          epsilon_insensitive    elasticnet        100            adaptive   \n",
       "321  squared_epsilon_insensitive            l2        100            adaptive   \n",
       "322  squared_epsilon_insensitive            l1        100            adaptive   \n",
       "323  squared_epsilon_insensitive    elasticnet        100            adaptive   \n",
       "\n",
       "     mean_test_score  std_test_score  rank_test_score  \n",
       "0           0.830749        0.001259                1  \n",
       "1           0.572375        0.305837              200  \n",
       "2           0.724670        0.210313              106  \n",
       "3           0.576203        0.312409              196  \n",
       "4           0.830749        0.001259                1  \n",
       "..               ...             ...              ...  \n",
       "319         0.507203        0.097509              249  \n",
       "320         0.462101        0.128869              278  \n",
       "321         0.478142        0.089791              264  \n",
       "322         0.484048        0.096076              260  \n",
       "323         0.523874        0.117108              243  \n",
       "\n",
       "[324 rows x 7 columns]"
      ]
     },
     "execution_count": 11,
     "metadata": {},
     "output_type": "execute_result"
    }
   ],
   "source": [
    "df = pd.DataFrame(gsCV.cv_results_)\n",
    "df[['param_loss', 'param_penalty', 'param_eta0', 'param_learning_rate', 'mean_test_score', 'std_test_score', 'rank_test_score']]"
   ]
  },
  {
   "cell_type": "markdown",
   "metadata": {},
   "source": [
    "**Reporte sobre el conjunto de entrenamiento**"
   ]
  },
  {
   "cell_type": "code",
   "execution_count": 12,
   "metadata": {},
   "outputs": [
    {
     "name": "stdout",
     "output_type": "stream",
     "text": [
      "Metricas\n",
      "\n",
      "              precision    recall  f1-score   support\n",
      "\n",
      "           0       0.83      0.99      0.90      1232\n",
      "           1       0.20      0.01      0.02       251\n",
      "\n",
      "    accuracy                           0.83      1483\n",
      "   macro avg       0.52      0.50      0.46      1483\n",
      "weighted avg       0.72      0.83      0.75      1483\n",
      "\n",
      "Accuracy: 0.83\n",
      "Precision: 0.52\n",
      "Recall: 0.5\n",
      "F1 score: 0.46\n"
     ]
    },
    {
     "data": {
      "image/png": "[encoded data removed]",
      "text/plain": [
       "<Figure size 432x288 with 2 Axes>"
      ]
     },
     "metadata": {
      "needs_background": "light"
     },
     "output_type": "display_data"
    }
   ],
   "source": [
    "sgd_predict_hp = best_model.predict(X_train)\n",
    "print('Metricas\\n')\n",
    "print(classification_report(y_train, sgd_predict_hp,zero_division=0))\n",
    "cm = confusion_matrix(y_train, sgd_predict_hp)\n",
    "plot_confusion_matrix(cm, [0,1])\n",
    "print(\"Accuracy:\", round(accuracy_score(y_train, sgd_predict_hp), 2))\n",
    "print(\"Precision:\", round(precision_score(y_train, sgd_predict_hp, average='macro'),2))\n",
    "print(\"Recall:\", round(recall_score(y_train, sgd_predict_hp, average='macro'),2))\n",
    "print(\"F1 score:\", round(f1_score(y_train, sgd_predict_hp, average='macro'),2))"
   ]
  },
  {
   "cell_type": "markdown",
   "metadata": {},
   "source": [
    "**Reporte sobre el conjunto de evaluación**"
   ]
  },
  {
   "cell_type": "code",
   "execution_count": 13,
   "metadata": {},
   "outputs": [
    {
     "name": "stdout",
     "output_type": "stream",
     "text": [
      "Metricas\n",
      "\n",
      "              precision    recall  f1-score   support\n",
      "\n",
      "           0       0.85      1.00      0.91       313\n",
      "           1       0.50      0.02      0.03        58\n",
      "\n",
      "    accuracy                           0.84       371\n",
      "   macro avg       0.67      0.51      0.47       371\n",
      "weighted avg       0.79      0.84      0.78       371\n",
      "\n",
      "Accuracy: 0.84\n",
      "Precision: 0.67\n",
      "Recall: 0.51\n",
      "F1 score: 0.47\n"
     ]
    },
    {
     "data": {
      "image/png": "[encoded data removed]",
      "text/plain": [
       "<Figure size 432x288 with 2 Axes>"
      ]
     },
     "metadata": {
      "needs_background": "light"
     },
     "output_type": "display_data"
    }
   ],
   "source": [
    "sgd_predict_hp = best_model.predict(X_test)\n",
    "print('Metricas\\n')\n",
    "print(classification_report(y_test, sgd_predict_hp,zero_division=0))\n",
    "cm = confusion_matrix(y_test, sgd_predict_hp)\n",
    "plot_confusion_matrix(cm, [0,1])\n",
    "print(\"Accuracy:\", round(accuracy_score(y_test, sgd_predict_hp), 2))\n",
    "print(\"Precision:\", round(precision_score(y_test, sgd_predict_hp, average='macro'),2))\n",
    "print(\"Recall:\", round(recall_score(y_test, sgd_predict_hp, average='macro'),2))\n",
    "print(\"F1 score:\", round(f1_score(y_test, sgd_predict_hp, average='macro'),2))"
   ]
  },
  {
   "cell_type": "markdown",
   "metadata": {},
   "source": [
    "## Ejercicio 3: Árboles de Decisión\n",
    "\n",
    "En este ejercicio se entrenarán árboles de decisión para predecir la variable objetivo.\n",
    "\n",
    "Para ello, deberán utilizar la clase DecisionTreeClassifier de scikit-learn.\n",
    "\n",
    "Documentación:\n",
    "- https://scikit-learn.org/stable/modules/tree.html\n",
    "  - https://scikit-learn.org/stable/modules/tree.html#tips-on-practical-use\n",
    "- https://scikit-learn.org/stable/modules/generated/sklearn.tree.DecisionTreeClassifier.html\n",
    "- https://scikit-learn.org/stable/auto_examples/tree/plot_unveil_tree_structure.html"
   ]
  },
  {
   "cell_type": "markdown",
   "metadata": {},
   "source": [
    "### Ejercicio 3.1: DecisionTreeClassifier con hiperparámetros por defecto\n",
    "\n",
    "Entrenar y evaluar el clasificador DecisionTreeClassifier usando los valores por omisión de scikit-learn para todos los parámetros. Únicamente **fijar la semilla aleatoria** para hacer repetible el experimento.\n",
    "\n",
    "Evaluar sobre el conjunto de **entrenamiento** y sobre el conjunto de **evaluación**, reportando:\n",
    "- Accuracy\n",
    "- Precision\n",
    "- Recall\n",
    "- F1\n",
    "- matriz de confusión\n"
   ]
  },
  {
   "cell_type": "code",
   "execution_count": 14,
   "metadata": {},
   "outputs": [
    {
     "data": {
      "text/plain": [
       "DecisionTreeClassifier(random_state=11)"
      ]
     },
     "execution_count": 14,
     "metadata": {},
     "output_type": "execute_result"
    }
   ],
   "source": [
    "tree_model = DecisionTreeClassifier(random_state = 11)\n",
    "tree_model.fit(X_train, y_train)"
   ]
  },
  {
   "cell_type": "markdown",
   "metadata": {},
   "source": [
    "**Reporte sobre el conjunto de entrenamiento**"
   ]
  },
  {
   "cell_type": "code",
   "execution_count": 15,
   "metadata": {},
   "outputs": [
    {
     "name": "stdout",
     "output_type": "stream",
     "text": [
      "Metricas\n",
      "\n",
      "              precision    recall  f1-score   support\n",
      "\n",
      "           0       1.00      1.00      1.00      1232\n",
      "           1       1.00      1.00      1.00       251\n",
      "\n",
      "    accuracy                           1.00      1483\n",
      "   macro avg       1.00      1.00      1.00      1483\n",
      "weighted avg       1.00      1.00      1.00      1483\n",
      "\n",
      "Accuracy: 1.0\n",
      "Precision: 1.0\n",
      "Recall: 1.0\n",
      "F1 score: 1.0\n"
     ]
    },
    {
     "data": {
      "image/png": "[encoded data removed]",
      "text/plain": [
       "<Figure size 432x288 with 2 Axes>"
      ]
     },
     "metadata": {
      "needs_background": "light"
     },
     "output_type": "display_data"
    }
   ],
   "source": [
    "tree_predict = tree_model.predict(X_train)\n",
    "print('Metricas\\n')\n",
    "print(classification_report(y_train, tree_predict,zero_division=0))\n",
    "cm = confusion_matrix(y_train, tree_predict)\n",
    "plot_confusion_matrix(cm, [0,1])\n",
    "print(\"Accuracy:\", round(accuracy_score(y_train, tree_predict), 2))\n",
    "print(\"Precision:\", round(precision_score(y_train, tree_predict, average='macro'),2))\n",
    "print(\"Recall:\", round(recall_score(y_train, tree_predict, average='macro'),2))\n",
    "print(\"F1 score:\", round(f1_score(y_train, tree_predict, average='macro'),2))"
   ]
  },
  {
   "cell_type": "markdown",
   "metadata": {},
   "source": [
    "**Reporte sobre el conjunto de evaluación**"
   ]
  },
  {
   "cell_type": "code",
   "execution_count": 16,
   "metadata": {},
   "outputs": [
    {
     "name": "stdout",
     "output_type": "stream",
     "text": [
      "Metricas\n",
      "\n",
      "              precision    recall  f1-score   support\n",
      "\n",
      "           0       0.93      0.93      0.93       313\n",
      "           1       0.60      0.60      0.60        58\n",
      "\n",
      "    accuracy                           0.88       371\n",
      "   macro avg       0.76      0.76      0.76       371\n",
      "weighted avg       0.88      0.88      0.88       371\n",
      "\n",
      "Accuracy: 0.88\n",
      "Precision: 0.76\n",
      "Recall: 0.76\n",
      "F1 score: 0.76\n"
     ]
    },
    {
     "data": {
      "image/png": "[encoded data removed]",
      "text/plain": [
       "<Figure size 432x288 with 2 Axes>"
      ]
     },
     "metadata": {
      "needs_background": "light"
     },
     "output_type": "display_data"
    }
   ],
   "source": [
    "tree_predict = tree_model.predict(X_test)\n",
    "print('Metricas\\n')\n",
    "print(classification_report(y_test, tree_predict,zero_division=0))\n",
    "cm = confusion_matrix(y_test, tree_predict)\n",
    "plot_confusion_matrix(cm, [0,1])\n",
    "print(\"Accuracy:\", round(accuracy_score(y_test, tree_predict), 2))\n",
    "print(\"Precision:\", round(precision_score(y_test, tree_predict, average='macro'),2))\n",
    "print(\"Recall:\", round(recall_score(y_test, tree_predict, average='macro'),2))\n",
    "print(\"F1 score:\", round(f1_score(y_test, tree_predict, average='macro'),2))"
   ]
  },
  {
   "cell_type": "markdown",
   "metadata": {},
   "source": [
    "### Ejercicio 3.2: Ajuste de Hiperparámetros\n",
    "\n",
    "Seleccionar valores para los hiperparámetros principales del DecisionTreeClassifier. Como mínimo, probar diferentes criterios de partición (criterion), profundidad máxima del árbol (max_depth), y cantidad mínima de samples por hoja (min_samples_leaf).\n",
    "\n",
    "Para ello, usar grid-search y 5-fold cross-validation sobre el conjunto de entrenamiento para explorar muchas combinaciones posibles de valores.\n",
    "\n",
    "Reportar accuracy promedio y varianza para todas las configuraciones.\n",
    "\n",
    "Para la mejor configuración encontrada, evaluar sobre el conjunto de **entrenamiento** y sobre el conjunto de **evaluación**, reportando:\n",
    "- Accuracy\n",
    "- Precision\n",
    "- Recall\n",
    "- F1\n",
    "- matriz de confusión\n",
    "\n",
    "\n",
    "Documentación:\n",
    "- https://scikit-learn.org/stable/modules/grid_search.html\n",
    "- https://scikit-learn.org/stable/modules/generated/sklearn.model_selection.GridSearchCV.html"
   ]
  },
  {
   "cell_type": "code",
   "execution_count": 17,
   "metadata": {},
   "outputs": [
    {
     "name": "stdout",
     "output_type": "stream",
     "text": [
      "Mejores hiperparametros:  {'criterion': 'gini', 'max_depth': 7, 'min_samples_leaf': 10}\n"
     ]
    }
   ],
   "source": [
    "param_grid = {'criterion': ['gini', 'entropy'],\n",
    "              'max_depth': [1, 3, 5, 7, 10, 15, 20],\n",
    "              'min_samples_leaf': [1, 3, 5, 7, 10, 15, 20]}\n",
    "\n",
    "gsCV_tree = GridSearchCV(tree_model, param_grid = param_grid, cv = 5, scoring = 'accuracy', n_jobs = -1).fit(X_train, y_train)\n",
    "best_model_tree = gsCV_tree.best_estimator_\n",
    "print('Mejores hiperparametros: ', gsCV_tree.best_params_)"
   ]
  },
  {
   "cell_type": "code",
   "execution_count": 18,
   "metadata": {},
   "outputs": [
    {
     "data": {
      "text/html": [
       "<div>\n",
       "<style scoped>\n",
       "    .dataframe tbody tr th:only-of-type {\n",
       "        vertical-align: middle;\n",
       "    }\n",
       "\n",
       "    .dataframe tbody tr th {\n",
       "        vertical-align: top;\n",
       "    }\n",
       "\n",
       "    .dataframe thead th {\n",
       "        text-align: right;\n",
       "    }\n",
       "</style>\n",
       "<table border=\"1\" class=\"dataframe\">\n",
       "  <thead>\n",
       "    <tr style=\"text-align: right;\">\n",
       "      <th></th>\n",
       "      <th>param_criterion</th>\n",
       "      <th>param_max_depth</th>\n",
       "      <th>param_min_samples_leaf</th>\n",
       "      <th>mean_test_score</th>\n",
       "      <th>std_test_score</th>\n",
       "      <th>rank_test_score</th>\n",
       "    </tr>\n",
       "  </thead>\n",
       "  <tbody>\n",
       "    <tr>\n",
       "      <th>0</th>\n",
       "      <td>gini</td>\n",
       "      <td>1</td>\n",
       "      <td>1</td>\n",
       "      <td>0.869194</td>\n",
       "      <td>0.009254</td>\n",
       "      <td>54</td>\n",
       "    </tr>\n",
       "    <tr>\n",
       "      <th>1</th>\n",
       "      <td>gini</td>\n",
       "      <td>1</td>\n",
       "      <td>3</td>\n",
       "      <td>0.869194</td>\n",
       "      <td>0.009254</td>\n",
       "      <td>54</td>\n",
       "    </tr>\n",
       "    <tr>\n",
       "      <th>2</th>\n",
       "      <td>gini</td>\n",
       "      <td>1</td>\n",
       "      <td>5</td>\n",
       "      <td>0.869194</td>\n",
       "      <td>0.009254</td>\n",
       "      <td>54</td>\n",
       "    </tr>\n",
       "    <tr>\n",
       "      <th>3</th>\n",
       "      <td>gini</td>\n",
       "      <td>1</td>\n",
       "      <td>7</td>\n",
       "      <td>0.869194</td>\n",
       "      <td>0.009254</td>\n",
       "      <td>54</td>\n",
       "    </tr>\n",
       "    <tr>\n",
       "      <th>4</th>\n",
       "      <td>gini</td>\n",
       "      <td>1</td>\n",
       "      <td>10</td>\n",
       "      <td>0.869194</td>\n",
       "      <td>0.009254</td>\n",
       "      <td>54</td>\n",
       "    </tr>\n",
       "    <tr>\n",
       "      <th>...</th>\n",
       "      <td>...</td>\n",
       "      <td>...</td>\n",
       "      <td>...</td>\n",
       "      <td>...</td>\n",
       "      <td>...</td>\n",
       "      <td>...</td>\n",
       "    </tr>\n",
       "    <tr>\n",
       "      <th>93</th>\n",
       "      <td>entropy</td>\n",
       "      <td>20</td>\n",
       "      <td>5</td>\n",
       "      <td>0.847618</td>\n",
       "      <td>0.016865</td>\n",
       "      <td>95</td>\n",
       "    </tr>\n",
       "    <tr>\n",
       "      <th>94</th>\n",
       "      <td>entropy</td>\n",
       "      <td>20</td>\n",
       "      <td>7</td>\n",
       "      <td>0.842213</td>\n",
       "      <td>0.011926</td>\n",
       "      <td>97</td>\n",
       "    </tr>\n",
       "    <tr>\n",
       "      <th>95</th>\n",
       "      <td>entropy</td>\n",
       "      <td>20</td>\n",
       "      <td>10</td>\n",
       "      <td>0.861775</td>\n",
       "      <td>0.006560</td>\n",
       "      <td>82</td>\n",
       "    </tr>\n",
       "    <tr>\n",
       "      <th>96</th>\n",
       "      <td>entropy</td>\n",
       "      <td>20</td>\n",
       "      <td>15</td>\n",
       "      <td>0.861097</td>\n",
       "      <td>0.011117</td>\n",
       "      <td>86</td>\n",
       "    </tr>\n",
       "    <tr>\n",
       "      <th>97</th>\n",
       "      <td>entropy</td>\n",
       "      <td>20</td>\n",
       "      <td>20</td>\n",
       "      <td>0.860429</td>\n",
       "      <td>0.015058</td>\n",
       "      <td>88</td>\n",
       "    </tr>\n",
       "  </tbody>\n",
       "</table>\n",
       "<p>98 rows × 6 columns</p>\n",
       "</div>"
      ],
      "text/plain": [
       "   param_criterion param_max_depth param_min_samples_leaf  mean_test_score  \\\n",
       "0             gini               1                      1         0.869194   \n",
       "1             gini               1                      3         0.869194   \n",
       "2             gini               1                      5         0.869194   \n",
       "3             gini               1                      7         0.869194   \n",
       "4             gini               1                     10         0.869194   \n",
       "..             ...             ...                    ...              ...   \n",
       "93         entropy              20                      5         0.847618   \n",
       "94         entropy              20                      7         0.842213   \n",
       "95         entropy              20                     10         0.861775   \n",
       "96         entropy              20                     15         0.861097   \n",
       "97         entropy              20                     20         0.860429   \n",
       "\n",
       "    std_test_score  rank_test_score  \n",
       "0         0.009254               54  \n",
       "1         0.009254               54  \n",
       "2         0.009254               54  \n",
       "3         0.009254               54  \n",
       "4         0.009254               54  \n",
       "..             ...              ...  \n",
       "93        0.016865               95  \n",
       "94        0.011926               97  \n",
       "95        0.006560               82  \n",
       "96        0.011117               86  \n",
       "97        0.015058               88  \n",
       "\n",
       "[98 rows x 6 columns]"
      ]
     },
     "execution_count": 18,
     "metadata": {},
     "output_type": "execute_result"
    }
   ],
   "source": [
    "df_tree = pd.DataFrame(gsCV_tree.cv_results_)\n",
    "df_tree[['param_criterion', 'param_max_depth', 'param_min_samples_leaf', 'mean_test_score', 'std_test_score', 'rank_test_score']]"
   ]
  },
  {
   "cell_type": "markdown",
   "metadata": {},
   "source": [
    "**Reporte sobre el conjunto de entrenamiento**"
   ]
  },
  {
   "cell_type": "code",
   "execution_count": 19,
   "metadata": {},
   "outputs": [
    {
     "name": "stdout",
     "output_type": "stream",
     "text": [
      "Metricas\n",
      "\n",
      "              precision    recall  f1-score   support\n",
      "\n",
      "           0       0.90      0.99      0.94      1232\n",
      "           1       0.90      0.44      0.59       251\n",
      "\n",
      "    accuracy                           0.90      1483\n",
      "   macro avg       0.90      0.72      0.77      1483\n",
      "weighted avg       0.90      0.90      0.88      1483\n",
      "\n",
      "Accuracy: 0.9\n",
      "Precision: 0.9\n",
      "Recall: 0.72\n",
      "F1 score: 0.77\n"
     ]
    },
    {
     "data": {
      "image/png": "[encoded data removed]",
      "text/plain": [
       "<Figure size 432x288 with 2 Axes>"
      ]
     },
     "metadata": {
      "needs_background": "light"
     },
     "output_type": "display_data"
    }
   ],
   "source": [
    "tree_predict_hp = best_model_tree.predict(X_train)\n",
    "print('Metricas\\n')\n",
    "print(classification_report(y_train, tree_predict_hp,zero_division=0))\n",
    "cm = confusion_matrix(y_train, tree_predict_hp)\n",
    "plot_confusion_matrix(cm, [0,1])\n",
    "print(\"Accuracy:\", round(accuracy_score(y_train, tree_predict_hp), 2))\n",
    "print(\"Precision:\", round(precision_score(y_train, tree_predict_hp, average='macro'),2))\n",
    "print(\"Recall:\", round(recall_score(y_train, tree_predict_hp, average='macro'),2))\n",
    "print(\"F1 score:\", round(f1_score(y_train, tree_predict_hp, average='macro'),2))"
   ]
  },
  {
   "cell_type": "markdown",
   "metadata": {},
   "source": [
    "**Reporte sobre el conjunto de evaluación**"
   ]
  },
  {
   "cell_type": "code",
   "execution_count": 20,
   "metadata": {},
   "outputs": [
    {
     "name": "stdout",
     "output_type": "stream",
     "text": [
      "Metricas\n",
      "\n",
      "              precision    recall  f1-score   support\n",
      "\n",
      "           0       0.90      0.98      0.94       313\n",
      "           1       0.77      0.41      0.54        58\n",
      "\n",
      "    accuracy                           0.89       371\n",
      "   macro avg       0.84      0.70      0.74       371\n",
      "weighted avg       0.88      0.89      0.88       371\n",
      "\n",
      "Accuracy: 0.89\n",
      "Precision: 0.84\n",
      "Recall: 0.7\n",
      "F1 score: 0.74\n"
     ]
    },
    {
     "data": {
      "image/png": "[encoded data removed]",
      "text/plain": [
       "<Figure size 432x288 with 2 Axes>"
      ]
     },
     "metadata": {
      "needs_background": "light"
     },
     "output_type": "display_data"
    }
   ],
   "source": [
    "tree_predict_hp = best_model_tree.predict(X_test)\n",
    "print('Metricas\\n')\n",
    "print(classification_report(y_test, tree_predict_hp,zero_division=0))\n",
    "cm = confusion_matrix(y_test, tree_predict_hp)\n",
    "plot_confusion_matrix(cm, [0,1])\n",
    "print(\"Accuracy:\", round(accuracy_score(y_test, tree_predict_hp), 2))\n",
    "print(\"Precision:\", round(precision_score(y_test, tree_predict_hp, average='macro'),2))\n",
    "print(\"Recall:\", round(recall_score(y_test, tree_predict_hp, average='macro'),2))\n",
    "print(\"F1 score:\", round(f1_score(y_test, tree_predict_hp, average='macro'),2))"
   ]
  }
 ],
 "metadata": {
  "kernelspec": {
   "display_name": "Python 3",
   "language": "python",
   "name": "python3"
  },
  "language_info": {
   "codemirror_mode": {
    "name": "ipython",
    "version": 3
   },
   "file_extension": ".py",
   "mimetype": "text/x-python",
   "name": "python",
   "nbconvert_exporter": "python",
   "pygments_lexer": "ipython3",
   "version": "3.8.10"
  }
 },
 "nbformat": 4,
 "nbformat_minor": 4
}
