{
 "cells": [
  {
   "cell_type": "markdown",
   "metadata": {
    "id": "4cjzfWbv5xfc"
   },
   "source": [
    "# Laboratorio 1: Regresión en Boston\n",
    "\n",
    "En este laboratorio deben hacer experimentos de regresión con el conjunto de datos \"Boston house prices dataset\".\n",
    "\n",
    "Estudiarán el dataset, harán visualizaciones y seleccionarán atributos relevantes a mano.\n",
    "\n",
    "Luego, entrenarán y evaluarán diferentes tipos de regresiones, buscando las configuraciones que mejores resultados den."
   ]
  },
  {
   "cell_type": "code",
   "execution_count": 16,
   "metadata": {
    "executionInfo": {
     "elapsed": 1264,
     "status": "ok",
     "timestamp": 1637425846867,
     "user": {
      "displayName": "Pablo Casas",
      "photoUrl": "https://lh3.googleusercontent.com/a-/AOh14GjjU0er16GSqEPLzL4ejmRN9PRF31hbKQSdxJoro5Y=s64",
      "userId": "18285785648963943721"
     },
     "user_tz": 180
    },
    "id": "ZN7FQwe85xfg"
   },
   "outputs": [],
   "source": [
    "import io\n",
    "import matplotlib\n",
    "import matplotlib.pyplot as plt\n",
    "import numpy as np\n",
    "import pandas as pd\n",
    "import seaborn\n",
    "matplotlib.use('Agg')\n",
    "%matplotlib inline"
   ]
  },
  {
   "cell_type": "markdown",
   "metadata": {
    "id": "BV5Ht_rK5xfh"
   },
   "source": [
    "## Carga del Conjunto de Datos\n",
    "\n"
   ]
  },
  {
   "cell_type": "code",
   "execution_count": 4,
   "metadata": {
    "colab": {
     "base_uri": "https://localhost:8080/"
    },
    "executionInfo": {
     "elapsed": 57,
     "status": "ok",
     "timestamp": 1637425846868,
     "user": {
      "displayName": "Pablo Casas",
      "photoUrl": "https://lh3.googleusercontent.com/a-/AOh14GjjU0er16GSqEPLzL4ejmRN9PRF31hbKQSdxJoro5Y=s64",
      "userId": "18285785648963943721"
     },
     "user_tz": 180
    },
    "id": "Z74ydaqK3KYn",
    "outputId": "5d4fbbe6-a75c-4722-bc4b-c9dfc06f7d64"
   },
   "outputs": [
    {
     "data": {
      "text/plain": [
       "dict_keys(['data', 'target', 'feature_names', 'DESCR', 'filename'])"
      ]
     },
     "execution_count": 4,
     "metadata": {},
     "output_type": "execute_result"
    }
   ],
   "source": [
    "from sklearn.datasets import load_boston\n",
    "boston = load_boston()\n",
    "boston.keys()"
   ]
  },
  {
   "cell_type": "code",
   "execution_count": 5,
   "metadata": {
    "colab": {
     "base_uri": "https://localhost:8080/"
    },
    "executionInfo": {
     "elapsed": 50,
     "status": "ok",
     "timestamp": 1637425846869,
     "user": {
      "displayName": "Pablo Casas",
      "photoUrl": "https://lh3.googleusercontent.com/a-/AOh14GjjU0er16GSqEPLzL4ejmRN9PRF31hbKQSdxJoro5Y=s64",
      "userId": "18285785648963943721"
     },
     "user_tz": 180
    },
    "id": "GpLP3ds8vPP_",
    "outputId": "92e0045d-ef1d-44dd-9d0e-c6eb0c781071"
   },
   "outputs": [
    {
     "name": "stdout",
     "output_type": "stream",
     "text": [
      "{'data': array([[6.3200e-03, 1.8000e+01, 2.3100e+00, ..., 1.5300e+01, 3.9690e+02,\n",
      "        4.9800e+00],\n",
      "       [2.7310e-02, 0.0000e+00, 7.0700e+00, ..., 1.7800e+01, 3.9690e+02,\n",
      "        9.1400e+00],\n",
      "       [2.7290e-02, 0.0000e+00, 7.0700e+00, ..., 1.7800e+01, 3.9283e+02,\n",
      "        4.0300e+00],\n",
      "       ...,\n",
      "       [6.0760e-02, 0.0000e+00, 1.1930e+01, ..., 2.1000e+01, 3.9690e+02,\n",
      "        5.6400e+00],\n",
      "       [1.0959e-01, 0.0000e+00, 1.1930e+01, ..., 2.1000e+01, 3.9345e+02,\n",
      "        6.4800e+00],\n",
      "       [4.7410e-02, 0.0000e+00, 1.1930e+01, ..., 2.1000e+01, 3.9690e+02,\n",
      "        7.8800e+00]]), 'target': array([24. , 21.6, 34.7, 33.4, 36.2, 28.7, 22.9, 27.1, 16.5, 18.9, 15. ,\n",
      "       18.9, 21.7, 20.4, 18.2, 19.9, 23.1, 17.5, 20.2, 18.2, 13.6, 19.6,\n",
      "       15.2, 14.5, 15.6, 13.9, 16.6, 14.8, 18.4, 21. , 12.7, 14.5, 13.2,\n",
      "       13.1, 13.5, 18.9, 20. , 21. , 24.7, 30.8, 34.9, 26.6, 25.3, 24.7,\n",
      "       21.2, 19.3, 20. , 16.6, 14.4, 19.4, 19.7, 20.5, 25. , 23.4, 18.9,\n",
      "       35.4, 24.7, 31.6, 23.3, 19.6, 18.7, 16. , 22.2, 25. , 33. , 23.5,\n",
      "       19.4, 22. , 17.4, 20.9, 24.2, 21.7, 22.8, 23.4, 24.1, 21.4, 20. ,\n",
      "       20.8, 21.2, 20.3, 28. , 23.9, 24.8, 22.9, 23.9, 26.6, 22.5, 22.2,\n",
      "       23.6, 28.7, 22.6, 22. , 22.9, 25. , 20.6, 28.4, 21.4, 38.7, 43.8,\n",
      "       33.2, 27.5, 26.5, 18.6, 19.3, 20.1, 19.5, 19.5, 20.4, 19.8, 19.4,\n",
      "       21.7, 22.8, 18.8, 18.7, 18.5, 18.3, 21.2, 19.2, 20.4, 19.3, 22. ,\n",
      "       20.3, 20.5, 17.3, 18.8, 21.4, 15.7, 16.2, 18. , 14.3, 19.2, 19.6,\n",
      "       23. , 18.4, 15.6, 18.1, 17.4, 17.1, 13.3, 17.8, 14. , 14.4, 13.4,\n",
      "       15.6, 11.8, 13.8, 15.6, 14.6, 17.8, 15.4, 21.5, 19.6, 15.3, 19.4,\n",
      "       17. , 15.6, 13.1, 41.3, 24.3, 23.3, 27. , 50. , 50. , 50. , 22.7,\n",
      "       25. , 50. , 23.8, 23.8, 22.3, 17.4, 19.1, 23.1, 23.6, 22.6, 29.4,\n",
      "       23.2, 24.6, 29.9, 37.2, 39.8, 36.2, 37.9, 32.5, 26.4, 29.6, 50. ,\n",
      "       32. , 29.8, 34.9, 37. , 30.5, 36.4, 31.1, 29.1, 50. , 33.3, 30.3,\n",
      "       34.6, 34.9, 32.9, 24.1, 42.3, 48.5, 50. , 22.6, 24.4, 22.5, 24.4,\n",
      "       20. , 21.7, 19.3, 22.4, 28.1, 23.7, 25. , 23.3, 28.7, 21.5, 23. ,\n",
      "       26.7, 21.7, 27.5, 30.1, 44.8, 50. , 37.6, 31.6, 46.7, 31.5, 24.3,\n",
      "       31.7, 41.7, 48.3, 29. , 24. , 25.1, 31.5, 23.7, 23.3, 22. , 20.1,\n",
      "       22.2, 23.7, 17.6, 18.5, 24.3, 20.5, 24.5, 26.2, 24.4, 24.8, 29.6,\n",
      "       42.8, 21.9, 20.9, 44. , 50. , 36. , 30.1, 33.8, 43.1, 48.8, 31. ,\n",
      "       36.5, 22.8, 30.7, 50. , 43.5, 20.7, 21.1, 25.2, 24.4, 35.2, 32.4,\n",
      "       32. , 33.2, 33.1, 29.1, 35.1, 45.4, 35.4, 46. , 50. , 32.2, 22. ,\n",
      "       20.1, 23.2, 22.3, 24.8, 28.5, 37.3, 27.9, 23.9, 21.7, 28.6, 27.1,\n",
      "       20.3, 22.5, 29. , 24.8, 22. , 26.4, 33.1, 36.1, 28.4, 33.4, 28.2,\n",
      "       22.8, 20.3, 16.1, 22.1, 19.4, 21.6, 23.8, 16.2, 17.8, 19.8, 23.1,\n",
      "       21. , 23.8, 23.1, 20.4, 18.5, 25. , 24.6, 23. , 22.2, 19.3, 22.6,\n",
      "       19.8, 17.1, 19.4, 22.2, 20.7, 21.1, 19.5, 18.5, 20.6, 19. , 18.7,\n",
      "       32.7, 16.5, 23.9, 31.2, 17.5, 17.2, 23.1, 24.5, 26.6, 22.9, 24.1,\n",
      "       18.6, 30.1, 18.2, 20.6, 17.8, 21.7, 22.7, 22.6, 25. , 19.9, 20.8,\n",
      "       16.8, 21.9, 27.5, 21.9, 23.1, 50. , 50. , 50. , 50. , 50. , 13.8,\n",
      "       13.8, 15. , 13.9, 13.3, 13.1, 10.2, 10.4, 10.9, 11.3, 12.3,  8.8,\n",
      "        7.2, 10.5,  7.4, 10.2, 11.5, 15.1, 23.2,  9.7, 13.8, 12.7, 13.1,\n",
      "       12.5,  8.5,  5. ,  6.3,  5.6,  7.2, 12.1,  8.3,  8.5,  5. , 11.9,\n",
      "       27.9, 17.2, 27.5, 15. , 17.2, 17.9, 16.3,  7. ,  7.2,  7.5, 10.4,\n",
      "        8.8,  8.4, 16.7, 14.2, 20.8, 13.4, 11.7,  8.3, 10.2, 10.9, 11. ,\n",
      "        9.5, 14.5, 14.1, 16.1, 14.3, 11.7, 13.4,  9.6,  8.7,  8.4, 12.8,\n",
      "       10.5, 17.1, 18.4, 15.4, 10.8, 11.8, 14.9, 12.6, 14.1, 13. , 13.4,\n",
      "       15.2, 16.1, 17.8, 14.9, 14.1, 12.7, 13.5, 14.9, 20. , 16.4, 17.7,\n",
      "       19.5, 20.2, 21.4, 19.9, 19. , 19.1, 19.1, 20.1, 19.9, 19.6, 23.2,\n",
      "       29.8, 13.8, 13.3, 16.7, 12. , 14.6, 21.4, 23. , 23.7, 25. , 21.8,\n",
      "       20.6, 21.2, 19.1, 20.6, 15.2,  7. ,  8.1, 13.6, 20.1, 21.8, 24.5,\n",
      "       23.1, 19.7, 18.3, 21.2, 17.5, 16.8, 22.4, 20.6, 23.9, 22. , 11.9]), 'feature_names': array(['CRIM', 'ZN', 'INDUS', 'CHAS', 'NOX', 'RM', 'AGE', 'DIS', 'RAD',\n",
      "       'TAX', 'PTRATIO', 'B', 'LSTAT'], dtype='<U7'), 'DESCR': \".. _boston_dataset:\\n\\nBoston house prices dataset\\n---------------------------\\n\\n**Data Set Characteristics:**  \\n\\n    :Number of Instances: 506 \\n\\n    :Number of Attributes: 13 numeric/categorical predictive. Median Value (attribute 14) is usually the target.\\n\\n    :Attribute Information (in order):\\n        - CRIM     per capita crime rate by town\\n        - ZN       proportion of residential land zoned for lots over 25,000 sq.ft.\\n        - INDUS    proportion of non-retail business acres per town\\n        - CHAS     Charles River dummy variable (= 1 if tract bounds river; 0 otherwise)\\n        - NOX      nitric oxides concentration (parts per 10 million)\\n        - RM       average number of rooms per dwelling\\n        - AGE      proportion of owner-occupied units built prior to 1940\\n        - DIS      weighted distances to five Boston employment centres\\n        - RAD      index of accessibility to radial highways\\n        - TAX      full-value property-tax rate per $10,000\\n        - PTRATIO  pupil-teacher ratio by town\\n        - B        1000(Bk - 0.63)^2 where Bk is the proportion of black people by town\\n        - LSTAT    % lower status of the population\\n        - MEDV     Median value of owner-occupied homes in $1000's\\n\\n    :Missing Attribute Values: None\\n\\n    :Creator: Harrison, D. and Rubinfeld, D.L.\\n\\nThis is a copy of UCI ML housing dataset.\\nhttps://archive.ics.uci.edu/ml/machine-learning-databases/housing/\\n\\n\\nThis dataset was taken from the StatLib library which is maintained at Carnegie Mellon University.\\n\\nThe Boston house-price data of Harrison, D. and Rubinfeld, D.L. 'Hedonic\\nprices and the demand for clean air', J. Environ. Economics & Management,\\nvol.5, 81-102, 1978.   Used in Belsley, Kuh & Welsch, 'Regression diagnostics\\n...', Wiley, 1980.   N.B. Various transformations are used in the table on\\npages 244-261 of the latter.\\n\\nThe Boston house-price data has been used in many machine learning papers that address regression\\nproblems.   \\n     \\n.. topic:: References\\n\\n   - Belsley, Kuh & Welsch, 'Regression diagnostics: Identifying Influential Data and Sources of Collinearity', Wiley, 1980. 244-261.\\n   - Quinlan,R. (1993). Combining Instance-Based and Model-Based Learning. In Proceedings on the Tenth International Conference of Machine Learning, 236-243, University of Massachusetts, Amherst. Morgan Kaufmann.\\n\", 'filename': 'C:\\\\Users\\\\gabyd\\\\anaconda3\\\\envs\\\\Diplo\\\\lib\\\\site-packages\\\\sklearn\\\\datasets\\\\data\\\\boston_house_prices.csv'}\n"
     ]
    }
   ],
   "source": [
    "# se verifica la información en set de dato boton\n",
    "print(boston)\n"
   ]
  },
  {
   "cell_type": "code",
   "execution_count": 6,
   "metadata": {
    "colab": {
     "base_uri": "https://localhost:8080/"
    },
    "executionInfo": {
     "elapsed": 47,
     "status": "ok",
     "timestamp": 1637425846870,
     "user": {
      "displayName": "Pablo Casas",
      "photoUrl": "https://lh3.googleusercontent.com/a-/AOh14GjjU0er16GSqEPLzL4ejmRN9PRF31hbKQSdxJoro5Y=s64",
      "userId": "18285785648963943721"
     },
     "user_tz": 180
    },
    "id": "01zuFzYjv9hp",
    "outputId": "54629055-d5c8-434c-ad1f-7ea4c566644a"
   },
   "outputs": [
    {
     "name": "stdout",
     "output_type": "stream",
     "text": [
      ".. _boston_dataset:\n",
      "\n",
      "Boston house prices dataset\n",
      "---------------------------\n",
      "\n",
      "**Data Set Characteristics:**  \n",
      "\n",
      "    :Number of Instances: 506 \n",
      "\n",
      "    :Number of Attributes: 13 numeric/categorical predictive. Median Value (attribute 14) is usually the target.\n",
      "\n",
      "    :Attribute Information (in order):\n",
      "        - CRIM     per capita crime rate by town\n",
      "        - ZN       proportion of residential land zoned for lots over 25,000 sq.ft.\n",
      "        - INDUS    proportion of non-retail business acres per town\n",
      "        - CHAS     Charles River dummy variable (= 1 if tract bounds river; 0 otherwise)\n",
      "        - NOX      nitric oxides concentration (parts per 10 million)\n",
      "        - RM       average number of rooms per dwelling\n",
      "        - AGE      proportion of owner-occupied units built prior to 1940\n",
      "        - DIS      weighted distances to five Boston employment centres\n",
      "        - RAD      index of accessibility to radial highways\n",
      "        - TAX      full-value property-tax rate per $10,000\n",
      "        - PTRATIO  pupil-teacher ratio by town\n",
      "        - B        1000(Bk - 0.63)^2 where Bk is the proportion of black people by town\n",
      "        - LSTAT    % lower status of the population\n",
      "        - MEDV     Median value of owner-occupied homes in $1000's\n",
      "\n",
      "    :Missing Attribute Values: None\n",
      "\n",
      "    :Creator: Harrison, D. and Rubinfeld, D.L.\n",
      "\n",
      "This is a copy of UCI ML housing dataset.\n",
      "https://archive.ics.uci.edu/ml/machine-learning-databases/housing/\n",
      "\n",
      "\n",
      "This dataset was taken from the StatLib library which is maintained at Carnegie Mellon University.\n",
      "\n",
      "The Boston house-price data of Harrison, D. and Rubinfeld, D.L. 'Hedonic\n",
      "prices and the demand for clean air', J. Environ. Economics & Management,\n",
      "vol.5, 81-102, 1978.   Used in Belsley, Kuh & Welsch, 'Regression diagnostics\n",
      "...', Wiley, 1980.   N.B. Various transformations are used in the table on\n",
      "pages 244-261 of the latter.\n",
      "\n",
      "The Boston house-price data has been used in many machine learning papers that address regression\n",
      "problems.   \n",
      "     \n",
      ".. topic:: References\n",
      "\n",
      "   - Belsley, Kuh & Welsch, 'Regression diagnostics: Identifying Influential Data and Sources of Collinearity', Wiley, 1980. 244-261.\n",
      "   - Quinlan,R. (1993). Combining Instance-Based and Model-Based Learning. In Proceedings on the Tenth International Conference of Machine Learning, 236-243, University of Massachusetts, Amherst. Morgan Kaufmann.\n",
      "\n"
     ]
    },
    {
     "data": {
      "text/plain": [
       "array(['CRIM', 'ZN', 'INDUS', 'CHAS', 'NOX', 'RM', 'AGE', 'DIS', 'RAD',\n",
       "       'TAX', 'PTRATIO', 'B', 'LSTAT'], dtype='<U7')"
      ]
     },
     "execution_count": 6,
     "metadata": {},
     "output_type": "execute_result"
    }
   ],
   "source": [
    "print(boston['DESCR'])   # descripción del dataset\n",
    "boston['data']           # matriz con los datos de entrada (atributos)\n",
    "boston['target']         # vector de valores a predecir\n",
    "boston['feature_names']  # nombres de los atributos para cada columna de 'data'"
   ]
  },
  {
   "cell_type": "markdown",
   "metadata": {
    "id": "2KrYiNFZ3KYq"
   },
   "source": [
    "## División en Entrenamiento y Evaluación\n",
    "\n",
    "Dividimos aleatoriamente los datos en 80% para entrenamiento y 20% para evaluación:"
   ]
  },
  {
   "cell_type": "code",
   "execution_count": 7,
   "metadata": {
    "colab": {
     "base_uri": "https://localhost:8080/"
    },
    "executionInfo": {
     "elapsed": 41,
     "status": "ok",
     "timestamp": 1637425846871,
     "user": {
      "displayName": "Pablo Casas",
      "photoUrl": "https://lh3.googleusercontent.com/a-/AOh14GjjU0er16GSqEPLzL4ejmRN9PRF31hbKQSdxJoro5Y=s64",
      "userId": "18285785648963943721"
     },
     "user_tz": 180
    },
    "id": "7krPGyiZEyTl",
    "outputId": "10a3be21-0a6d-4ffb-e57d-4573f153ad0a"
   },
   "outputs": [
    {
     "data": {
      "text/plain": [
       "((404, 13), (102, 13))"
      ]
     },
     "execution_count": 7,
     "metadata": {},
     "output_type": "execute_result"
    }
   ],
   "source": [
    "from sklearn.model_selection import train_test_split\n",
    "X, y = boston['data'], boston['target']\n",
    "X_train, X_test, y_train, y_test = train_test_split(X, y, train_size=0.8, random_state=0)\n",
    "X_train.shape, X_test.shape"
   ]
  },
  {
   "cell_type": "markdown",
   "metadata": {
    "id": "tQkVYnk25xfq"
   },
   "source": [
    "## Ejercicio 1: Descripción de los Datos y la Tarea\n",
    "\n",
    "Responda las siguientes preguntas:\n",
    "\n",
    "1. ¿De qué se trata el conjunto de datos?\n",
    "2. ¿Cuál es la variable objetivo que hay que predecir? ¿Qué significado tiene?\n",
    "3. ¿Qué información (atributos) hay disponibles para hacer la predicción?\n",
    "4. ¿Qué atributos imagina ud. que serán los más determinantes para la predicción?\n",
    "5. ¿Qué problemas observa a priori en el conjunto de datos? ¿Observa posibles sesgos, riesgos, dilemas éticos, etc? Piense que los datos pueden ser utilizados para hacer predicciones futuras.\n",
    "\n",
    "**No hace falta escribir código para responder estas preguntas.**"
   ]
  },
  {
   "cell_type": "code",
   "execution_count": 128,
   "metadata": {
    "executionInfo": {
     "elapsed": 36,
     "status": "ok",
     "timestamp": 1637425846871,
     "user": {
      "displayName": "Pablo Casas",
      "photoUrl": "https://lh3.googleusercontent.com/a-/AOh14GjjU0er16GSqEPLzL4ejmRN9PRF31hbKQSdxJoro5Y=s64",
      "userId": "18285785648963943721"
     },
     "user_tz": 180
    },
    "id": "JOxOd62V5sJo"
   },
   "outputs": [],
   "source": []
  },
  {
   "cell_type": "markdown",
   "metadata": {
    "id": "JAGLtfT25xfq"
   },
   "source": [
    "1. Boston es un set de dato que está incluido en sklearn y ofrece valores medios de los valores de inmuebles en Boston a partir de diferentes caracteristicas.\n",
    "\n",
    "\n",
    "\n",
    "2. La variable objetivo es MEDV. Median value of owner-occupied homes in $1000's. \n",
    "Esta varible indica el precio promedio las viviendas ocupadas por sus propietarios expresadas en factor de 1000. Es decir que indica el precio de los inmuebles.\n",
    "\n",
    "3. los atributos disponibles son los siguientes.\n",
    " \n",
    "        - CRIM     per capita crime rate by town\n",
    "        - ZN       proportion of residential land zoned for lots over 25,000 sq.ft.\n",
    "        - INDUS    proportion of non-retail business acres per town\n",
    "        - CHAS     Charles River dummy variable (= 1 if tract bounds river; 0 otherwise)\n",
    "        - NOX      nitric oxides concentration (parts per 10 million)\n",
    "        - RM       average number of rooms per dwelling\n",
    "        - AGE      proportion of owner-occupied units built prior to 1940\n",
    "        - DIS      weighted distances to five Boston employment centres\n",
    "        - RAD      index of accessibility to radial highways\n",
    "        - TAX      full-value property-tax rate per $10,000\n",
    "        - PTRATIO  pupil-teacher ratio by town\n",
    "        - B        1000(Bk - 0.63)^2 where Bk is the proportion of blacks by town\n",
    "        - LSTAT    % lower status of the population\n",
    "        - MEDV     Median value of owner-occupied homes in $1000's\n",
    " \n",
    "4. ¿Qué atributos imagina ud. que serán los más determinantes para la predicción?\n",
    "\n",
    "Los atributos que estimamos serán los mas determinantes son los siguientes.\n",
    "\n",
    "CRIM ,CHAS, RM,AGE, DIS,RAD,TAX\n",
    "\n",
    "5. ¿Qué problemas observa a priori en el conjunto de datos? ¿Observa posibles sesgos, riesgos, dilemas éticos, etc? Piense que los datos pueden ser utilizados para hacer predicciones futuras.\n",
    "\n",
    "A priori se observa la variables CRIM (crimenes por capita en la ciudad) estaría indicando que se trata o no de un lugar seguro para vivir. Este atributo hace que la vivienda portadora de una categoría social pueda generar una respuesta negativa y se le atribuya como negativa (inacepatable o inforiores)\n",
    "**No hace falta escribir código para responder estas preguntas.**"
   ]
  },
  {
   "cell_type": "markdown",
   "metadata": {
    "id": "pEJZ6glQ5xfr"
   },
   "source": [
    "## Ejercicio 2: Visualización de los Datos\n",
    "\n",
    "1. Para cada atributo de entrada, haga una gráfica que muestre su relación con la variable objetivo.\n",
    "2. Estudie las gráficas, identificando **a ojo** los atributos que a su criterio sean los más informativos para la predicción.\n",
    "3. Para ud., ¿cuáles son esos atributos? Lístelos en orden de importancia."
   ]
  },
  {
   "cell_type": "code",
   "execution_count": 17,
   "metadata": {
    "colab": {
     "base_uri": "https://localhost:8080/",
     "height": 281
    },
    "executionInfo": {
     "elapsed": 37,
     "status": "ok",
     "timestamp": 1637425846872,
     "user": {
      "displayName": "Pablo Casas",
      "photoUrl": "https://lh3.googleusercontent.com/a-/AOh14GjjU0er16GSqEPLzL4ejmRN9PRF31hbKQSdxJoro5Y=s64",
      "userId": "18285785648963943721"
     },
     "user_tz": 180
    },
    "id": "3dO5xWhoFBHE",
    "outputId": "e00eaeaf-fd98-4024-bbf3-d4e53a86d50d"
   },
   "outputs": [
    {
     "data": {
      "image/png": "[encoded data removed]",
      "text/plain": [
       "<Figure size 432x288 with 1 Axes>"
      ]
     },
     "metadata": {
      "needs_background": "light"
     },
     "output_type": "display_data"
    }
   ],
   "source": [
    "#2.1\n",
    "\n",
    "feature = 'CRIM'\n",
    "selector = (boston['feature_names'] == feature)\n",
    "plt.scatter(X[:, selector], y, facecolor=\"dodgerblue\", edgecolor=\"k\", label=\"datos\")\n",
    "plt.title(feature)\n",
    "plt.show()"
   ]
  },
  {
   "cell_type": "code",
   "execution_count": 18,
   "metadata": {
    "colab": {
     "base_uri": "https://localhost:8080/",
     "height": 281
    },
    "executionInfo": {
     "elapsed": 36,
     "status": "ok",
     "timestamp": 1637425846873,
     "user": {
      "displayName": "Pablo Casas",
      "photoUrl": "https://lh3.googleusercontent.com/a-/AOh14GjjU0er16GSqEPLzL4ejmRN9PRF31hbKQSdxJoro5Y=s64",
      "userId": "18285785648963943721"
     },
     "user_tz": 180
    },
    "id": "8pelUTaFGYcN",
    "outputId": "eb873109-b323-4304-cb82-36921bd58220"
   },
   "outputs": [
    {
     "data": {
      "image/png": "[encoded data removed]",
      "text/plain": [
       "<Figure size 432x288 with 1 Axes>"
      ]
     },
     "metadata": {
      "needs_background": "light"
     },
     "output_type": "display_data"
    }
   ],
   "source": [
    "feature = 'ZN'\n",
    "selector = (boston['feature_names'] == feature)\n",
    "plt.scatter(X[:, selector], y, facecolor=\"dodgerblue\", edgecolor=\"k\", label=\"datos\")\n",
    "plt.title(feature)\n",
    "plt.show()"
   ]
  },
  {
   "cell_type": "code",
   "execution_count": 19,
   "metadata": {
    "colab": {
     "base_uri": "https://localhost:8080/",
     "height": 281
    },
    "executionInfo": {
     "elapsed": 35,
     "status": "ok",
     "timestamp": 1637425846874,
     "user": {
      "displayName": "Pablo Casas",
      "photoUrl": "https://lh3.googleusercontent.com/a-/AOh14GjjU0er16GSqEPLzL4ejmRN9PRF31hbKQSdxJoro5Y=s64",
      "userId": "18285785648963943721"
     },
     "user_tz": 180
    },
    "id": "7p0kmmMJGdBB",
    "outputId": "a60cc76b-97ee-4057-fc85-07c736a70dad"
   },
   "outputs": [
    {
     "data": {
      "image/png": "[encoded data removed]",
      "text/plain": [
       "<Figure size 432x288 with 1 Axes>"
      ]
     },
     "metadata": {
      "needs_background": "light"
     },
     "output_type": "display_data"
    }
   ],
   "source": [
    "feature = 'INDUS'\n",
    "selector = (boston['feature_names'] == feature)\n",
    "plt.scatter(X[:, selector], y, facecolor=\"dodgerblue\", edgecolor=\"k\", label=\"datos\")\n",
    "plt.title(feature)\n",
    "plt.show()"
   ]
  },
  {
   "cell_type": "code",
   "execution_count": 20,
   "metadata": {
    "colab": {
     "base_uri": "https://localhost:8080/",
     "height": 281
    },
    "executionInfo": {
     "elapsed": 34,
     "status": "ok",
     "timestamp": 1637425846875,
     "user": {
      "displayName": "Pablo Casas",
      "photoUrl": "https://lh3.googleusercontent.com/a-/AOh14GjjU0er16GSqEPLzL4ejmRN9PRF31hbKQSdxJoro5Y=s64",
      "userId": "18285785648963943721"
     },
     "user_tz": 180
    },
    "id": "itOeYHpYGjZ5",
    "outputId": "94224798-8287-42c7-efe3-35893f660912"
   },
   "outputs": [
    {
     "data": {
      "image/png": "[encoded data removed]",
      "text/plain": [
       "<Figure size 432x288 with 1 Axes>"
      ]
     },
     "metadata": {
      "needs_background": "light"
     },
     "output_type": "display_data"
    }
   ],
   "source": [
    "feature = 'CHAS'\n",
    "selector = (boston['feature_names'] == feature)\n",
    "plt.scatter(X[:, selector], y, facecolor=\"dodgerblue\", edgecolor=\"k\", label=\"datos\")\n",
    "plt.title(feature)\n",
    "plt.show()"
   ]
  },
  {
   "cell_type": "code",
   "execution_count": 21,
   "metadata": {
    "colab": {
     "base_uri": "https://localhost:8080/",
     "height": 281
    },
    "executionInfo": {
     "elapsed": 576,
     "status": "ok",
     "timestamp": 1637425847419,
     "user": {
      "displayName": "Pablo Casas",
      "photoUrl": "https://lh3.googleusercontent.com/a-/AOh14GjjU0er16GSqEPLzL4ejmRN9PRF31hbKQSdxJoro5Y=s64",
      "userId": "18285785648963943721"
     },
     "user_tz": 180
    },
    "id": "v5j61tVGGm-K",
    "outputId": "1f435a82-55dd-48e9-cc3f-e7f77119a400"
   },
   "outputs": [
    {
     "data": {
      "image/png": "[encoded data removed]",
      "text/plain": [
       "<Figure size 432x288 with 1 Axes>"
      ]
     },
     "metadata": {
      "needs_background": "light"
     },
     "output_type": "display_data"
    }
   ],
   "source": [
    "feature = 'NOX'\n",
    "selector = (boston['feature_names'] == feature)\n",
    "plt.scatter(X[:, selector], y, facecolor=\"dodgerblue\", edgecolor=\"k\", label=\"datos\")\n",
    "plt.title(feature)\n",
    "plt.show()"
   ]
  },
  {
   "cell_type": "code",
   "execution_count": 22,
   "metadata": {
    "colab": {
     "base_uri": "https://localhost:8080/",
     "height": 281
    },
    "executionInfo": {
     "elapsed": 16,
     "status": "ok",
     "timestamp": 1637425847420,
     "user": {
      "displayName": "Pablo Casas",
      "photoUrl": "https://lh3.googleusercontent.com/a-/AOh14GjjU0er16GSqEPLzL4ejmRN9PRF31hbKQSdxJoro5Y=s64",
      "userId": "18285785648963943721"
     },
     "user_tz": 180
    },
    "id": "JO5uS3IHGq4k",
    "outputId": "38571532-8fec-4f67-b1f5-2de210eefacf"
   },
   "outputs": [
    {
     "data": {
      "image/png": "[encoded data removed]",
      "text/plain": [
       "<Figure size 432x288 with 1 Axes>"
      ]
     },
     "metadata": {
      "needs_background": "light"
     },
     "output_type": "display_data"
    }
   ],
   "source": [
    "feature = 'RM'\n",
    "selector = (boston['feature_names'] == feature)\n",
    "plt.scatter(X[:, selector], y, facecolor=\"dodgerblue\", edgecolor=\"k\", label=\"datos\")\n",
    "plt.title(feature)\n",
    "plt.show()"
   ]
  },
  {
   "cell_type": "code",
   "execution_count": 23,
   "metadata": {
    "colab": {
     "base_uri": "https://localhost:8080/",
     "height": 281
    },
    "executionInfo": {
     "elapsed": 14,
     "status": "ok",
     "timestamp": 1637425847421,
     "user": {
      "displayName": "Pablo Casas",
      "photoUrl": "https://lh3.googleusercontent.com/a-/AOh14GjjU0er16GSqEPLzL4ejmRN9PRF31hbKQSdxJoro5Y=s64",
      "userId": "18285785648963943721"
     },
     "user_tz": 180
    },
    "id": "CCdiA1C2Gumn",
    "outputId": "d5bb7d81-a877-4530-9ed7-64a06ce3edaa"
   },
   "outputs": [
    {
     "data": {
      "image/png": "[encoded data removed]",
      "text/plain": [
       "<Figure size 432x288 with 1 Axes>"
      ]
     },
     "metadata": {
      "needs_background": "light"
     },
     "output_type": "display_data"
    }
   ],
   "source": [
    "feature = 'AGE'\n",
    "selector = (boston['feature_names'] == feature)\n",
    "plt.scatter(X[:, selector], y, facecolor=\"dodgerblue\", edgecolor=\"k\", label=\"datos\")\n",
    "plt.title(feature)\n",
    "plt.show()"
   ]
  },
  {
   "cell_type": "code",
   "execution_count": 24,
   "metadata": {
    "colab": {
     "base_uri": "https://localhost:8080/",
     "height": 281
    },
    "executionInfo": {
     "elapsed": 822,
     "status": "ok",
     "timestamp": 1637425848231,
     "user": {
      "displayName": "Pablo Casas",
      "photoUrl": "https://lh3.googleusercontent.com/a-/AOh14GjjU0er16GSqEPLzL4ejmRN9PRF31hbKQSdxJoro5Y=s64",
      "userId": "18285785648963943721"
     },
     "user_tz": 180
    },
    "id": "p3OWLcvQGyvB",
    "outputId": "302a9a2e-028e-403c-f632-018f2d1a8c57"
   },
   "outputs": [
    {
     "data": {
      "image/png": "[encoded data removed]",
      "text/plain": [
       "<Figure size 432x288 with 1 Axes>"
      ]
     },
     "metadata": {
      "needs_background": "light"
     },
     "output_type": "display_data"
    }
   ],
   "source": [
    "feature = 'DIS'\n",
    "selector = (boston['feature_names'] == feature)\n",
    "plt.scatter(X[:, selector], y, facecolor=\"dodgerblue\", edgecolor=\"k\", label=\"datos\")\n",
    "plt.title(feature)\n",
    "plt.show()"
   ]
  },
  {
   "cell_type": "code",
   "execution_count": 25,
   "metadata": {
    "colab": {
     "base_uri": "https://localhost:8080/",
     "height": 281
    },
    "executionInfo": {
     "elapsed": 27,
     "status": "ok",
     "timestamp": 1637425848233,
     "user": {
      "displayName": "Pablo Casas",
      "photoUrl": "https://lh3.googleusercontent.com/a-/AOh14GjjU0er16GSqEPLzL4ejmRN9PRF31hbKQSdxJoro5Y=s64",
      "userId": "18285785648963943721"
     },
     "user_tz": 180
    },
    "id": "rPNwS-A3G2NW",
    "outputId": "03cfb009-69f2-4e7a-9d17-7f9c7f8edfb0"
   },
   "outputs": [
    {
     "data": {
      "image/png": "[encoded data removed]",
      "text/plain": [
       "<Figure size 432x288 with 1 Axes>"
      ]
     },
     "metadata": {
      "needs_background": "light"
     },
     "output_type": "display_data"
    }
   ],
   "source": [
    "feature = 'RAD'\n",
    "selector = (boston['feature_names'] == feature)\n",
    "plt.scatter(X[:, selector], y, facecolor=\"dodgerblue\", edgecolor=\"k\", label=\"datos\")\n",
    "plt.title(feature)\n",
    "plt.show()"
   ]
  },
  {
   "cell_type": "code",
   "execution_count": 26,
   "metadata": {
    "colab": {
     "base_uri": "https://localhost:8080/",
     "height": 281
    },
    "executionInfo": {
     "elapsed": 25,
     "status": "ok",
     "timestamp": 1637425848233,
     "user": {
      "displayName": "Pablo Casas",
      "photoUrl": "https://lh3.googleusercontent.com/a-/AOh14GjjU0er16GSqEPLzL4ejmRN9PRF31hbKQSdxJoro5Y=s64",
      "userId": "18285785648963943721"
     },
     "user_tz": 180
    },
    "id": "-IB8i6UOG6mB",
    "outputId": "c0b9d8fa-c79c-417f-e37d-ed61c1006940"
   },
   "outputs": [
    {
     "data": {
      "image/png": "[encoded data removed]",
      "text/plain": [
       "<Figure size 432x288 with 1 Axes>"
      ]
     },
     "metadata": {
      "needs_background": "light"
     },
     "output_type": "display_data"
    }
   ],
   "source": [
    "feature = 'TAX'\n",
    "selector = (boston['feature_names'] == feature)\n",
    "plt.scatter(X[:, selector], y, facecolor=\"dodgerblue\", edgecolor=\"k\", label=\"datos\")\n",
    "plt.title(feature)\n",
    "plt.show()"
   ]
  },
  {
   "cell_type": "code",
   "execution_count": 27,
   "metadata": {
    "colab": {
     "base_uri": "https://localhost:8080/",
     "height": 281
    },
    "executionInfo": {
     "elapsed": 25,
     "status": "ok",
     "timestamp": 1637425848234,
     "user": {
      "displayName": "Pablo Casas",
      "photoUrl": "https://lh3.googleusercontent.com/a-/AOh14GjjU0er16GSqEPLzL4ejmRN9PRF31hbKQSdxJoro5Y=s64",
      "userId": "18285785648963943721"
     },
     "user_tz": 180
    },
    "id": "dgmmbHJyG_L1",
    "outputId": "8cceb875-2497-4ce4-fe68-fa1152a3fae8"
   },
   "outputs": [
    {
     "data": {
      "image/png": "[encoded data removed]",
      "text/plain": [
       "<Figure size 432x288 with 1 Axes>"
      ]
     },
     "metadata": {
      "needs_background": "light"
     },
     "output_type": "display_data"
    }
   ],
   "source": [
    "feature = 'PTRATIO'\n",
    "selector = (boston['feature_names'] == feature)\n",
    "plt.scatter(X[:, selector], y, facecolor=\"dodgerblue\", edgecolor=\"k\", label=\"datos\")\n",
    "plt.title(feature)\n",
    "plt.show()"
   ]
  },
  {
   "cell_type": "code",
   "execution_count": 28,
   "metadata": {
    "colab": {
     "base_uri": "https://localhost:8080/",
     "height": 281
    },
    "executionInfo": {
     "elapsed": 990,
     "status": "ok",
     "timestamp": 1637425849201,
     "user": {
      "displayName": "Pablo Casas",
      "photoUrl": "https://lh3.googleusercontent.com/a-/AOh14GjjU0er16GSqEPLzL4ejmRN9PRF31hbKQSdxJoro5Y=s64",
      "userId": "18285785648963943721"
     },
     "user_tz": 180
    },
    "id": "LEU1VELHHEA4",
    "outputId": "0017c052-2feb-46c7-e4b2-2744ee541dfa"
   },
   "outputs": [
    {
     "data": {
      "image/png": "[encoded data removed]",
      "text/plain": [
       "<Figure size 432x288 with 1 Axes>"
      ]
     },
     "metadata": {
      "needs_background": "light"
     },
     "output_type": "display_data"
    }
   ],
   "source": [
    "feature = 'B'\n",
    "selector = (boston['feature_names'] == feature)\n",
    "plt.scatter(X[:, selector], y, facecolor=\"dodgerblue\", edgecolor=\"k\", label=\"datos\")\n",
    "plt.title(feature)\n",
    "plt.show()"
   ]
  },
  {
   "cell_type": "code",
   "execution_count": 29,
   "metadata": {
    "colab": {
     "base_uri": "https://localhost:8080/",
     "height": 281
    },
    "executionInfo": {
     "elapsed": 41,
     "status": "ok",
     "timestamp": 1637425849202,
     "user": {
      "displayName": "Pablo Casas",
      "photoUrl": "https://lh3.googleusercontent.com/a-/AOh14GjjU0er16GSqEPLzL4ejmRN9PRF31hbKQSdxJoro5Y=s64",
      "userId": "18285785648963943721"
     },
     "user_tz": 180
    },
    "id": "G3hzETrhHHv-",
    "outputId": "db405355-bf36-461b-ddbb-0c891279f5be"
   },
   "outputs": [
    {
     "data": {
      "image/png": "[encoded data removed]",
      "text/plain": [
       "<Figure size 432x288 with 1 Axes>"
      ]
     },
     "metadata": {
      "needs_background": "light"
     },
     "output_type": "display_data"
    }
   ],
   "source": [
    "feature = 'LSTAT'\n",
    "selector = (boston['feature_names'] == feature)\n",
    "plt.scatter(X[:, selector], y, facecolor=\"dodgerblue\", edgecolor=\"k\", label=\"datos\")\n",
    "plt.title(feature)\n",
    "plt.show()"
   ]
  },
  {
   "cell_type": "markdown",
   "metadata": {
    "id": "FN2ivNPSsQt1"
   },
   "source": [
    "2.2- Un análisis preliminar de los gráficos obtenidos anteriormente permite establecer que los atributo que tienen un clara tendencia y que podrían ser relevantes para la predicción son: RM , AGE, DIS y LSTAT."
   ]
  },
  {
   "cell_type": "markdown",
   "metadata": {
    "id": "qFsWfZVMtVvi"
   },
   "source": [
    "2.3- A continuación se listan los atibutos en orde de importancia.\n",
    "1) RM\n",
    "2) AGE\n",
    "3) LSTAT\n",
    "4) DIS\n"
   ]
  },
  {
   "cell_type": "markdown",
   "metadata": {
    "id": "SkpVbAlp5xft"
   },
   "source": [
    "## Ejercicio 3: Regresión Lineal\n",
    "\n",
    "1. Seleccione **un solo atributo** que considere puede ser el más apropiado.\n",
    "2. Instancie una regresión lineal de **scikit-learn**, y entrénela usando sólo el atributo seleccionado.\n",
    "3. Evalúe, calculando error cuadrático medio para los conjuntos de entrenamiento y evaluación.\n",
    "4. Grafique el modelo resultante, junto con los puntos de entrenamiento y evaluación.\n",
    "5. Interprete el resultado, haciendo algún comentario sobre las cualidades del modelo obtenido.\n",
    "\n",
    "**Observación:** Con algunos atributos se puede obtener un error en test menor a 50."
   ]
  },
  {
   "cell_type": "code",
   "execution_count": 30,
   "metadata": {
    "colab": {
     "base_uri": "https://localhost:8080/",
     "height": 281
    },
    "executionInfo": {
     "elapsed": 41,
     "status": "ok",
     "timestamp": 1637425849204,
     "user": {
      "displayName": "Pablo Casas",
      "photoUrl": "https://lh3.googleusercontent.com/a-/AOh14GjjU0er16GSqEPLzL4ejmRN9PRF31hbKQSdxJoro5Y=s64",
      "userId": "18285785648963943721"
     },
     "user_tz": 180
    },
    "id": "-Jv-bJQs4OMK",
    "outputId": "1be3c4f8-688c-4469-8718-242b7ca99dec"
   },
   "outputs": [
    {
     "data": {
      "image/png": "[encoded data removed]",
      "text/plain": [
       "<Figure size 432x288 with 1 Axes>"
      ]
     },
     "metadata": {
      "needs_background": "light"
     },
     "output_type": "display_data"
    }
   ],
   "source": [
    "feature = 'RM'\n",
    "selector = (boston['feature_names'] == feature)\n",
    "plt.scatter(X[:, selector], y, facecolor=\"red\", edgecolor=\"k\", label=\"datos\")\n",
    "plt.title(feature)\n",
    "plt.show()"
   ]
  },
  {
   "cell_type": "code",
   "execution_count": 143,
   "metadata": {
    "executionInfo": {
     "elapsed": 41,
     "status": "ok",
     "timestamp": 1637425849205,
     "user": {
      "displayName": "Pablo Casas",
      "photoUrl": "https://lh3.googleusercontent.com/a-/AOh14GjjU0er16GSqEPLzL4ejmRN9PRF31hbKQSdxJoro5Y=s64",
      "userId": "18285785648963943721"
     },
     "user_tz": 180
    },
    "id": "NZduewVC4ZXq"
   },
   "outputs": [],
   "source": [
    "#Se puede observar a simple vista que el modelo tendrá un error muy alto para el algoritmo de regresión lineal."
   ]
  },
  {
   "cell_type": "code",
   "execution_count": 31,
   "metadata": {
    "colab": {
     "base_uri": "https://localhost:8080/"
    },
    "executionInfo": {
     "elapsed": 42,
     "status": "ok",
     "timestamp": 1637425849207,
     "user": {
      "displayName": "Pablo Casas",
      "photoUrl": "https://lh3.googleusercontent.com/a-/AOh14GjjU0er16GSqEPLzL4ejmRN9PRF31hbKQSdxJoro5Y=s64",
      "userId": "18285785648963943721"
     },
     "user_tz": 180
    },
    "id": "R9LC0pueHits",
    "outputId": "969ee69f-e6a3-48df-9f4c-25b58ed29750"
   },
   "outputs": [
    {
     "data": {
      "text/plain": [
       "((404, 1), (102, 1))"
      ]
     },
     "execution_count": 31,
     "metadata": {},
     "output_type": "execute_result"
    }
   ],
   "source": [
    "# 1. Resolver acá. Ayuda:\n",
    "feature = 'RM'  # selecciono el atributo 'CRIM'\n",
    "selector = (boston['feature_names'] == feature)\n",
    "X_train_f = X_train[:, selector]\n",
    "X_test_f = X_test[:, selector]\n",
    "X_train_f.shape, X_test_f.shape"
   ]
  },
  {
   "cell_type": "code",
   "execution_count": 145,
   "metadata": {
    "executionInfo": {
     "elapsed": 41,
     "status": "ok",
     "timestamp": 1637425849210,
     "user": {
      "displayName": "Pablo Casas",
      "photoUrl": "https://lh3.googleusercontent.com/a-/AOh14GjjU0er16GSqEPLzL4ejmRN9PRF31hbKQSdxJoro5Y=s64",
      "userId": "18285785648963943721"
     },
     "user_tz": 180
    },
    "id": "JiQb_UlXSJT1"
   },
   "outputs": [],
   "source": [
    "#Instanciar y entrenar acá."
   ]
  },
  {
   "cell_type": "code",
   "execution_count": 32,
   "metadata": {
    "executionInfo": {
     "elapsed": 41,
     "status": "ok",
     "timestamp": 1637425849211,
     "user": {
      "displayName": "Pablo Casas",
      "photoUrl": "https://lh3.googleusercontent.com/a-/AOh14GjjU0er16GSqEPLzL4ejmRN9PRF31hbKQSdxJoro5Y=s64",
      "userId": "18285785648963943721"
     },
     "user_tz": 180
    },
    "id": "X8a2iV4jQYCm"
   },
   "outputs": [],
   "source": [
    "from sklearn.linear_model import LinearRegression"
   ]
  },
  {
   "cell_type": "code",
   "execution_count": 33,
   "metadata": {
    "executionInfo": {
     "elapsed": 42,
     "status": "ok",
     "timestamp": 1637425849212,
     "user": {
      "displayName": "Pablo Casas",
      "photoUrl": "https://lh3.googleusercontent.com/a-/AOh14GjjU0er16GSqEPLzL4ejmRN9PRF31hbKQSdxJoro5Y=s64",
      "userId": "18285785648963943721"
     },
     "user_tz": 180
    },
    "id": "jP7kn4a6Rggn"
   },
   "outputs": [],
   "source": [
    "lm = LinearRegression()"
   ]
  },
  {
   "cell_type": "code",
   "execution_count": 34,
   "metadata": {
    "colab": {
     "base_uri": "https://localhost:8080/"
    },
    "executionInfo": {
     "elapsed": 42,
     "status": "ok",
     "timestamp": 1637425849213,
     "user": {
      "displayName": "Pablo Casas",
      "photoUrl": "https://lh3.googleusercontent.com/a-/AOh14GjjU0er16GSqEPLzL4ejmRN9PRF31hbKQSdxJoro5Y=s64",
      "userId": "18285785648963943721"
     },
     "user_tz": 180
    },
    "id": "u3HfW9UjRpS_",
    "outputId": "e890dee4-d625-41fe-8bdb-6e16331f62e8"
   },
   "outputs": [
    {
     "data": {
      "text/plain": [
       "LinearRegression()"
      ]
     },
     "execution_count": 34,
     "metadata": {},
     "output_type": "execute_result"
    }
   ],
   "source": [
    "lm.fit(X_train_f,y_train) #Entrena el algoritmo "
   ]
  },
  {
   "cell_type": "code",
   "execution_count": 148,
   "metadata": {
    "executionInfo": {
     "elapsed": 40,
     "status": "ok",
     "timestamp": 1637425849214,
     "user": {
      "displayName": "Pablo Casas",
      "photoUrl": "https://lh3.googleusercontent.com/a-/AOh14GjjU0er16GSqEPLzL4ejmRN9PRF31hbKQSdxJoro5Y=s64",
      "userId": "18285785648963943721"
     },
     "user_tz": 180
    },
    "id": "5l--HZxCOaHe"
   },
   "outputs": [],
   "source": []
  },
  {
   "cell_type": "code",
   "execution_count": 149,
   "metadata": {
    "executionInfo": {
     "elapsed": 40,
     "status": "ok",
     "timestamp": 1637425849215,
     "user": {
      "displayName": "Pablo Casas",
      "photoUrl": "https://lh3.googleusercontent.com/a-/AOh14GjjU0er16GSqEPLzL4ejmRN9PRF31hbKQSdxJoro5Y=s64",
      "userId": "18285785648963943721"
     },
     "user_tz": 180
    },
    "id": "AlTpB2ghSMUq"
   },
   "outputs": [],
   "source": [
    "# 3. Predecir y evaluar acá."
   ]
  },
  {
   "cell_type": "code",
   "execution_count": 35,
   "metadata": {
    "executionInfo": {
     "elapsed": 41,
     "status": "ok",
     "timestamp": 1637425849216,
     "user": {
      "displayName": "Pablo Casas",
      "photoUrl": "https://lh3.googleusercontent.com/a-/AOh14GjjU0er16GSqEPLzL4ejmRN9PRF31hbKQSdxJoro5Y=s64",
      "userId": "18285785648963943721"
     },
     "user_tz": 180
    },
    "id": "MMBXGT_4TJLV"
   },
   "outputs": [],
   "source": [
    "y_test_pred = lm.predict(X_test_f)"
   ]
  },
  {
   "cell_type": "code",
   "execution_count": 36,
   "metadata": {
    "executionInfo": {
     "elapsed": 41,
     "status": "ok",
     "timestamp": 1637425849217,
     "user": {
      "displayName": "Pablo Casas",
      "photoUrl": "https://lh3.googleusercontent.com/a-/AOh14GjjU0er16GSqEPLzL4ejmRN9PRF31hbKQSdxJoro5Y=s64",
      "userId": "18285785648963943721"
     },
     "user_tz": 180
    },
    "id": "7VqK7BdgSxPR"
   },
   "outputs": [],
   "source": [
    "y_train_pred = lm.predict(X_train_f)"
   ]
  },
  {
   "cell_type": "code",
   "execution_count": 37,
   "metadata": {
    "colab": {
     "base_uri": "https://localhost:8080/"
    },
    "executionInfo": {
     "elapsed": 43,
     "status": "ok",
     "timestamp": 1637425849219,
     "user": {
      "displayName": "Pablo Casas",
      "photoUrl": "https://lh3.googleusercontent.com/a-/AOh14GjjU0er16GSqEPLzL4ejmRN9PRF31hbKQSdxJoro5Y=s64",
      "userId": "18285785648963943721"
     },
     "user_tz": 180
    },
    "id": "2RNi84FCSraP",
    "outputId": "ace12626-54ba-492a-dff3-f6641385141c"
   },
   "outputs": [
    {
     "name": "stdout",
     "output_type": "stream",
     "text": [
      "Train error: 42.820479\n",
      "Test error: 46.907352\n",
      "Precision del modelo: 0.497080\n"
     ]
    }
   ],
   "source": [
    "\n",
    "from sklearn.metrics import mean_squared_error\n",
    "\n",
    "train_error = mean_squared_error(y_train, y_train_pred)\n",
    "test_error = mean_squared_error(y_test, y_test_pred)\n",
    "score=lm.score(X_train_f,y_train)\n",
    "print(f'Train error: {train_error:f}')\n",
    "print(f'Test error: {test_error:f}')\n",
    "print(f'Precision del modelo: {score:f}')"
   ]
  },
  {
   "cell_type": "code",
   "execution_count": 38,
   "metadata": {
    "colab": {
     "base_uri": "https://localhost:8080/",
     "height": 390
    },
    "executionInfo": {
     "elapsed": 41,
     "status": "ok",
     "timestamp": 1637425849220,
     "user": {
      "displayName": "Pablo Casas",
      "photoUrl": "https://lh3.googleusercontent.com/a-/AOh14GjjU0er16GSqEPLzL4ejmRN9PRF31hbKQSdxJoro5Y=s64",
      "userId": "18285785648963943721"
     },
     "user_tz": 180
    },
    "id": "mbOVf38-T7mj",
    "outputId": "8b232743-53af-4299-95cd-929103421829"
   },
   "outputs": [
    {
     "data": {
      "image/png": "[encoded data removed]",
      "text/plain": [
       "<Figure size 864x432 with 1 Axes>"
      ]
     },
     "metadata": {
      "needs_background": "light"
     },
     "output_type": "display_data"
    }
   ],
   "source": [
    "# 4. Graficar acá. Ayuda:\n",
    "x_start = min(np.min(X_train_f), np.min(X_test_f))\n",
    "x_end = max(np.max(X_train_f), np.max(X_test_f))\n",
    "x = np.linspace(x_start, x_end, 200).reshape(-1, 1)\n",
    "# plt.plot(x, model.predict(x), color=\"tomato\", label=\"modelo\")\n",
    "fig, ax = plt.subplots(figsize=(12,6))\n",
    "plt.scatter(X_train_f, y_train, facecolor=\"dodgerblue\", edgecolor=\"k\", label=\"train\")\n",
    "plt.scatter(X_test_f, y_test, facecolor=\"white\", edgecolor=\"k\", label=\"test\")\n",
    "plt.title(feature)\n",
    "plt.legend()\n",
    "plt.show()"
   ]
  },
  {
   "cell_type": "code",
   "execution_count": 39,
   "metadata": {
    "colab": {
     "base_uri": "https://localhost:8080/",
     "height": 312
    },
    "executionInfo": {
     "elapsed": 584,
     "status": "ok",
     "timestamp": 1637425849765,
     "user": {
      "displayName": "Pablo Casas",
      "photoUrl": "https://lh3.googleusercontent.com/a-/AOh14GjjU0er16GSqEPLzL4ejmRN9PRF31hbKQSdxJoro5Y=s64",
      "userId": "18285785648963943721"
     },
     "user_tz": 180
    },
    "id": "X2HGugauJnzu",
    "outputId": "820bd0da-77f3-4059-b11e-0b42a21b5358"
   },
   "outputs": [
    {
     "data": {
      "text/plain": [
       "Text(0, 0.5, 'Valor medio')"
      ]
     },
     "execution_count": 39,
     "metadata": {},
     "output_type": "execute_result"
    },
    {
     "data": {
      "image/png": "[encoded data removed]",
      "text/plain": [
       "<Figure size 432x288 with 1 Axes>"
      ]
     },
     "metadata": {
      "needs_background": "light"
     },
     "output_type": "display_data"
    }
   ],
   "source": [
    "plt.scatter(X_test_f,y_test)\n",
    "plt.plot(X_test_f,y_test_pred,color='red')\n",
    "plt.title('Regresión lineal')\n",
    "plt.xlabel('Número de habitaciones')\n",
    "plt.ylabel('Valor medio')"
   ]
  },
  {
   "cell_type": "markdown",
   "metadata": {
    "id": "CBik0fdlUkBD"
   },
   "source": [
    "3.5 Analizando el resultado obtenido se puede observar que el modelo predijo de forma correcta la tendencia de los datos, aunque es incompleto para predecir los valores dicho modelo. "
   ]
  },
  {
   "cell_type": "markdown",
   "metadata": {
    "id": "eFuPhWqB5xfv"
   },
   "source": [
    "## Ejercicio 4: Regresión Polinomial\n",
    "\n",
    "En este ejercicio deben entrenar regresiones polinomiales de diferente complejidad, siempre usando **scikit-learn**.\n",
    "\n",
    "Deben usar **el mismo atributo** seleccionado para el ejercicio anterior.\n",
    "\n",
    "1. Para varios grados de polinomio, haga lo siguiente:\n",
    "    1. Instancie y entrene una regresión polinomial.\n",
    "    2. Prediga y calcule error en entrenamiento y evaluación. Imprima los valores.\n",
    "    3. Guarde los errores en una lista.\n",
    "2. Grafique las curvas de error en términos del grado del polinomio.\n",
    "3. Interprete la curva, identificando el punto en que comienza a haber sobreajuste, si lo hay.\n",
    "4. Seleccione el modelo que mejor funcione, y grafique el modelo conjuntamente con los puntos.\n",
    "5. Interprete el resultado, haciendo algún comentario sobre las cualidades del modelo obtenido.\n",
    "\n",
    "**Observación:** Con algunos atributos se pueden obtener errores en test menores a 40 e incluso a 35."
   ]
  },
  {
   "cell_type": "code",
   "execution_count": 155,
   "metadata": {
    "executionInfo": {
     "elapsed": 35,
     "status": "ok",
     "timestamp": 1637425849766,
     "user": {
      "displayName": "Pablo Casas",
      "photoUrl": "https://lh3.googleusercontent.com/a-/AOh14GjjU0er16GSqEPLzL4ejmRN9PRF31hbKQSdxJoro5Y=s64",
      "userId": "18285785648963943721"
     },
     "user_tz": 180
    },
    "id": "cr2j-iUx5xfw"
   },
   "outputs": [],
   "source": [
    "# 1. Resolver acá."
   ]
  },
  {
   "cell_type": "code",
   "execution_count": 40,
   "metadata": {
    "executionInfo": {
     "elapsed": 35,
     "status": "ok",
     "timestamp": 1637425849767,
     "user": {
      "displayName": "Pablo Casas",
      "photoUrl": "https://lh3.googleusercontent.com/a-/AOh14GjjU0er16GSqEPLzL4ejmRN9PRF31hbKQSdxJoro5Y=s64",
      "userId": "18285785648963943721"
     },
     "user_tz": 180
    },
    "id": "yGLsgGVQZU8a"
   },
   "outputs": [],
   "source": [
    "from sklearn.linear_model import LinearRegression\n",
    "from sklearn.preprocessing import PolynomialFeatures\n",
    "from sklearn.pipeline import make_pipeline\n",
    "\n",
    "\n",
    "X_train_fp = X_train[:, selector]\n",
    "X_test_fp = X_test[:, selector]\n",
    "degree = 10  # seleccio de un grado arbitrio de polinomio\n",
    "pf = PolynomialFeatures(degree)\n",
    "lr = LinearRegression(fit_intercept=False)  # el bias ya esta como feature \n",
    "model = make_pipeline(pf, lr)"
   ]
  },
  {
   "cell_type": "code",
   "execution_count": 41,
   "metadata": {
    "colab": {
     "base_uri": "https://localhost:8080/"
    },
    "executionInfo": {
     "elapsed": 37,
     "status": "ok",
     "timestamp": 1637425849769,
     "user": {
      "displayName": "Pablo Casas",
      "photoUrl": "https://lh3.googleusercontent.com/a-/AOh14GjjU0er16GSqEPLzL4ejmRN9PRF31hbKQSdxJoro5Y=s64",
      "userId": "18285785648963943721"
     },
     "user_tz": 180
    },
    "id": "wdFKoecNZYTx",
    "outputId": "969931fd-52da-4b99-dee0-d4d7e768d8d3"
   },
   "outputs": [
    {
     "data": {
      "text/plain": [
       "Pipeline(steps=[('polynomialfeatures', PolynomialFeatures(degree=10)),\n",
       "                ('linearregression', LinearRegression(fit_intercept=False))])"
      ]
     },
     "execution_count": 41,
     "metadata": {},
     "output_type": "execute_result"
    }
   ],
   "source": [
    "model.fit(X_train_fp, y_train)"
   ]
  },
  {
   "cell_type": "code",
   "execution_count": 42,
   "metadata": {
    "executionInfo": {
     "elapsed": 33,
     "status": "ok",
     "timestamp": 1637425849770,
     "user": {
      "displayName": "Pablo Casas",
      "photoUrl": "https://lh3.googleusercontent.com/a-/AOh14GjjU0er16GSqEPLzL4ejmRN9PRF31hbKQSdxJoro5Y=s64",
      "userId": "18285785648963943721"
     },
     "user_tz": 180
    },
    "id": "dpZmP-ipZpfF"
   },
   "outputs": [],
   "source": [
    "y_train_pred = model.predict(X_train_fp)\n",
    "y_test_pred = model.predict(X_test_fp)"
   ]
  },
  {
   "cell_type": "code",
   "execution_count": 43,
   "metadata": {
    "colab": {
     "base_uri": "https://localhost:8080/"
    },
    "executionInfo": {
     "elapsed": 34,
     "status": "ok",
     "timestamp": 1637425849771,
     "user": {
      "displayName": "Pablo Casas",
      "photoUrl": "https://lh3.googleusercontent.com/a-/AOh14GjjU0er16GSqEPLzL4ejmRN9PRF31hbKQSdxJoro5Y=s64",
      "userId": "18285785648963943721"
     },
     "user_tz": 180
    },
    "id": "vrVY3C66ZuW1",
    "outputId": "079d409a-3597-4642-bd55-7bc056dcfd51"
   },
   "outputs": [
    {
     "name": "stdout",
     "output_type": "stream",
     "text": [
      "Train error: 32.8\n",
      "Test error: 45.0\n",
      "Precision del modelo: 0.497080\n"
     ]
    }
   ],
   "source": [
    "train_error = mean_squared_error(y_train, y_train_pred)\n",
    "test_error = mean_squared_error(y_test, y_test_pred)\n",
    "score1=lm.score(X_train_fp,y_train)\n",
    "print(f'Train error: {train_error:0.5}')\n",
    "print(f'Test error: {test_error:0.3}')\n",
    "print(f'Precision del modelo: {score1:f}')"
   ]
  },
  {
   "cell_type": "code",
   "execution_count": 160,
   "metadata": {
    "executionInfo": {
     "elapsed": 32,
     "status": "ok",
     "timestamp": 1637425849772,
     "user": {
      "displayName": "Pablo Casas",
      "photoUrl": "https://lh3.googleusercontent.com/a-/AOh14GjjU0er16GSqEPLzL4ejmRN9PRF31hbKQSdxJoro5Y=s64",
      "userId": "18285785648963943721"
     },
     "user_tz": 180
    },
    "id": "uxw18VZE5xfw"
   },
   "outputs": [],
   "source": [
    "# 2. Graficar curvas de error acá."
   ]
  },
  {
   "cell_type": "code",
   "execution_count": 44,
   "metadata": {
    "executionInfo": {
     "elapsed": 32,
     "status": "ok",
     "timestamp": 1637425849773,
     "user": {
      "displayName": "Pablo Casas",
      "photoUrl": "https://lh3.googleusercontent.com/a-/AOh14GjjU0er16GSqEPLzL4ejmRN9PRF31hbKQSdxJoro5Y=s64",
      "userId": "18285785648963943721"
     },
     "user_tz": 180
    },
    "id": "FkdXT17bNI16"
   },
   "outputs": [],
   "source": [
    "train_errors = []\n",
    "test_errors = []\n",
    "degrees = [0, 1, 2, 3, 4, 5, 6, 7, 8, 9]\n",
    "for degree in degrees:\n",
    "    # train:\n",
    "    pf = PolynomialFeatures(degree)\n",
    "    lr = LinearRegression(fit_intercept=False)\n",
    "    model = make_pipeline(pf, lr)\n",
    "\n",
    "    model.fit(X_train_fp, y_train)\n",
    "   # model.fit(X_train_fp, y_train)\n",
    "    \n",
    "    # predict:\n",
    "    y_train_pred = model.predict(X_train_fp)\n",
    "    y_test_pred = model.predict(X_test_fp)\n",
    "    \n",
    "    # evaluate:\n",
    "    train_error = mean_squared_error(y_train, y_train_pred)\n",
    "    test_error = mean_squared_error(y_test, y_test_pred)\n",
    "    train_errors.append(train_error)\n",
    "    test_errors.append(test_error)"
   ]
  },
  {
   "cell_type": "code",
   "execution_count": 45,
   "metadata": {
    "colab": {
     "base_uri": "https://localhost:8080/"
    },
    "executionInfo": {
     "elapsed": 32,
     "status": "ok",
     "timestamp": 1637425849774,
     "user": {
      "displayName": "Pablo Casas",
      "photoUrl": "https://lh3.googleusercontent.com/a-/AOh14GjjU0er16GSqEPLzL4ejmRN9PRF31hbKQSdxJoro5Y=s64",
      "userId": "18285785648963943721"
     },
     "user_tz": 180
    },
    "id": "Dti8lf9uNbB3",
    "outputId": "e2d3c2d3-c0c0-40c6-ee5e-2fe0708be846"
   },
   "outputs": [
    {
     "data": {
      "text/plain": [
       "([85.1437202235075,\n",
       "  42.820478941727515,\n",
       "  37.74552897028126,\n",
       "  36.395658757671164,\n",
       "  34.80844625691345,\n",
       "  33.13112157195784,\n",
       "  33.13011641558405,\n",
       "  33.06035876480318,\n",
       "  33.06035722332969,\n",
       "  32.85494394584421],\n",
       " [81.58231743908232,\n",
       "  46.907351627395315,\n",
       "  39.79473116372663,\n",
       "  39.82576208821406,\n",
       "  41.55392567547212,\n",
       "  41.03828857087715,\n",
       "  41.00917694042084,\n",
       "  42.39411081753549,\n",
       "  42.39919181671428,\n",
       "  46.042803163109674])"
      ]
     },
     "execution_count": 45,
     "metadata": {},
     "output_type": "execute_result"
    }
   ],
   "source": [
    "train_errors, test_errors"
   ]
  },
  {
   "cell_type": "code",
   "execution_count": 46,
   "metadata": {
    "colab": {
     "base_uri": "https://localhost:8080/",
     "height": 279
    },
    "executionInfo": {
     "elapsed": 30,
     "status": "ok",
     "timestamp": 1637425849775,
     "user": {
      "displayName": "Pablo Casas",
      "photoUrl": "https://lh3.googleusercontent.com/a-/AOh14GjjU0er16GSqEPLzL4ejmRN9PRF31hbKQSdxJoro5Y=s64",
      "userId": "18285785648963943721"
     },
     "user_tz": 180
    },
    "id": "oVfFPCOrNjUe",
    "outputId": "5cb2b011-52fd-421c-e4c9-32d8c8b97d8f"
   },
   "outputs": [
    {
     "data": {
      "image/png": "[encoded data removed]",
      "text/plain": [
       "<Figure size 432x288 with 1 Axes>"
      ]
     },
     "metadata": {
      "needs_background": "light"
     },
     "output_type": "display_data"
    }
   ],
   "source": [
    "plt.plot(degrees, train_errors, color=\"blue\", label=\"train\")\n",
    "plt.plot(degrees, test_errors, color=\"red\", label=\"test\")\n",
    "plt.legend()\n",
    "plt.xlabel(\"degree\")\n",
    "plt.ylabel(\"error\")\n",
    "plt.show()"
   ]
  },
  {
   "cell_type": "markdown",
   "metadata": {
    "id": "1NXpAl-CAa8k"
   },
   "source": [
    "Se observa que el punto donde el error es meno es el grado 2  del polinomio, luego comienza a observarse pequeños sobre ajustes en el modelo."
   ]
  },
  {
   "cell_type": "code",
   "execution_count": 47,
   "metadata": {
    "executionInfo": {
     "elapsed": 29,
     "status": "ok",
     "timestamp": 1637425849776,
     "user": {
      "displayName": "Pablo Casas",
      "photoUrl": "https://lh3.googleusercontent.com/a-/AOh14GjjU0er16GSqEPLzL4ejmRN9PRF31hbKQSdxJoro5Y=s64",
      "userId": "18285785648963943721"
     },
     "user_tz": 180
    },
    "id": "A0FFPVoR5xfw"
   },
   "outputs": [],
   "source": [
    "# 4.4\n",
    "X_train_fp1 = X_train[:, selector]\n",
    "X_test_fp1 = X_test[:, selector]\n",
    "degree = 2\n",
    "pf = PolynomialFeatures(degree)#\n",
    "\n",
    "lr = LinearRegression(fit_intercept=False)  # el bias ya esta como feature\n",
    "\n",
    "model = make_pipeline(pf, lr)\n",
    "\n",
    "\n",
    "model.fit(X_train_fp1, y_train)\n",
    "\n",
    "y_train_pred = model.predict(X_train_fp1)\n",
    "y_test_pred = model.predict(X_test_fp1)\n"
   ]
  },
  {
   "cell_type": "code",
   "execution_count": 48,
   "metadata": {
    "colab": {
     "base_uri": "https://localhost:8080/"
    },
    "executionInfo": {
     "elapsed": 29,
     "status": "ok",
     "timestamp": 1637425849777,
     "user": {
      "displayName": "Pablo Casas",
      "photoUrl": "https://lh3.googleusercontent.com/a-/AOh14GjjU0er16GSqEPLzL4ejmRN9PRF31hbKQSdxJoro5Y=s64",
      "userId": "18285785648963943721"
     },
     "user_tz": 180
    },
    "id": "0IG521r_7ZOl",
    "outputId": "0226326e-50a2-42b2-ddff-587d165e2a63"
   },
   "outputs": [
    {
     "name": "stdout",
     "output_type": "stream",
     "text": [
      "Train error: 37.746\n",
      "Test error: 39.8\n",
      "Precision del modelo: 0.497080\n"
     ]
    }
   ],
   "source": [
    "train_error = mean_squared_error(y_train, y_train_pred)\n",
    "test_error = mean_squared_error(y_test, y_test_pred)\n",
    "\n",
    "\n",
    "score2=lm.score(X_train_fp1,y_train)\n",
    "print(f'Train error: {train_error:0.5}')\n",
    "print(f'Test error: {test_error:0.3}')\n",
    "print(f'Precision del modelo: {score2:f}')"
   ]
  },
  {
   "cell_type": "code",
   "execution_count": 49,
   "metadata": {
    "colab": {
     "base_uri": "https://localhost:8080/",
     "height": 404
    },
    "executionInfo": {
     "elapsed": 673,
     "status": "ok",
     "timestamp": 1637425850425,
     "user": {
      "displayName": "Pablo Casas",
      "photoUrl": "https://lh3.googleusercontent.com/a-/AOh14GjjU0er16GSqEPLzL4ejmRN9PRF31hbKQSdxJoro5Y=s64",
      "userId": "18285785648963943721"
     },
     "user_tz": 180
    },
    "id": "tJVlQ8zt7bi_",
    "outputId": "27d2bb09-72ee-4536-a1e0-88ceba50065c"
   },
   "outputs": [
    {
     "data": {
      "image/png": "[encoded data removed]",
      "text/plain": [
       "<Figure size 864x432 with 1 Axes>"
      ]
     },
     "metadata": {
      "needs_background": "light"
     },
     "output_type": "display_data"
    }
   ],
   "source": [
    "fig, ax = plt.subplots(figsize=(12,6))\n",
    "plt.scatter(X_test_f,y_test)\n",
    "plt.scatter(X_test_f,y_test_pred,color='red')\n",
    "\n",
    "plt.title('Regresión Polinomial')\n",
    "plt.xlabel('Número de habitaciones')\n",
    "plt.ylabel('Valor medio')\n",
    "\n",
    "\n",
    "plt.show()\n"
   ]
  },
  {
   "cell_type": "markdown",
   "metadata": {
    "id": "hcx1hH8gFKX3"
   },
   "source": [
    "4.5. Interpretación del grafico: Las líneas rojas serían nuestro modelo y los punto azules los datos de entrenamiento. Como objetivo se plantea disminuir el error es decir la distancia a nuestra curva .  Se observa que buena parte de los datos tienen un comportamiento correcto."
   ]
  },
  {
   "cell_type": "markdown",
   "metadata": {
    "id": "ccsO17-o5xfx"
   },
   "source": [
    "## Ejercicio 5: Regresión con más de un Atributo\n",
    "\n",
    "En este ejercicio deben entrenar regresiones que toman más de un atributo de entrada.\n",
    "\n",
    "1. Seleccione **dos o tres atributos** entre los más relevantes encontrados en el ejercicio 2.\n",
    "2. Repita el ejercicio anterior, pero usando los atributos seleccionados. No hace falta graficar el modelo final.\n",
    "3. Interprete el resultado y compare con los ejercicios anteriores. ¿Se obtuvieron mejores modelos? ¿Porqué?"
   ]
  },
  {
   "cell_type": "code",
   "execution_count": 50,
   "metadata": {
    "colab": {
     "base_uri": "https://localhost:8080/"
    },
    "executionInfo": {
     "elapsed": 36,
     "status": "ok",
     "timestamp": 1637425850426,
     "user": {
      "displayName": "Pablo Casas",
      "photoUrl": "https://lh3.googleusercontent.com/a-/AOh14GjjU0er16GSqEPLzL4ejmRN9PRF31hbKQSdxJoro5Y=s64",
      "userId": "18285785648963943721"
     },
     "user_tz": 180
    },
    "id": "ocrvj3WK5xfx",
    "outputId": "8fc1f6c2-380d-47a7-dafb-9a9bbce072a8"
   },
   "outputs": [
    {
     "data": {
      "text/plain": [
       "((404, 2), (102, 2))"
      ]
     },
     "execution_count": 50,
     "metadata": {},
     "output_type": "execute_result"
    }
   ],
   "source": [
    "# 1. Resolver acá. Ayuda (con dos atributos):\n",
    "#Atributos seleccionados para este analisis.\n",
    "#RM. AGE Y LSTM.\n",
    "selector = (boston['feature_names'] == 'RM') | (boston['feature_names'] == 'AGE')| (boston['feature_names'] == 'LSTM')\n",
    "X_train_fs1 = X_train[:,selector]\n",
    "X_test_fs1 = X_test[:,selector]\n",
    "X_train_fs1.shape, X_test_fs1.shape"
   ]
  },
  {
   "cell_type": "code",
   "execution_count": 51,
   "metadata": {
    "colab": {
     "base_uri": "https://localhost:8080/"
    },
    "executionInfo": {
     "elapsed": 30,
     "status": "ok",
     "timestamp": 1637425850426,
     "user": {
      "displayName": "Pablo Casas",
      "photoUrl": "https://lh3.googleusercontent.com/a-/AOh14GjjU0er16GSqEPLzL4ejmRN9PRF31hbKQSdxJoro5Y=s64",
      "userId": "18285785648963943721"
     },
     "user_tz": 180
    },
    "id": "3QRMrIdc5xfx",
    "outputId": "f02d41b6-f338-4640-b965-896190920bed"
   },
   "outputs": [
    {
     "data": {
      "text/plain": [
       "LinearRegression()"
      ]
     },
     "execution_count": 51,
     "metadata": {},
     "output_type": "execute_result"
    }
   ],
   "source": [
    "# 2. Resolver acá.\n",
    "#regresión lineal con mas de dos atributos.\n",
    "lm = LinearRegression()\n",
    "lm.fit(X_train_fs1,y_train) #Entrena el algoritmo "
   ]
  },
  {
   "cell_type": "code",
   "execution_count": 52,
   "metadata": {
    "executionInfo": {
     "elapsed": 26,
     "status": "ok",
     "timestamp": 1637425850427,
     "user": {
      "displayName": "Pablo Casas",
      "photoUrl": "https://lh3.googleusercontent.com/a-/AOh14GjjU0er16GSqEPLzL4ejmRN9PRF31hbKQSdxJoro5Y=s64",
      "userId": "18285785648963943721"
     },
     "user_tz": 180
    },
    "id": "oFhS5pDu0KMe"
   },
   "outputs": [],
   "source": [
    "y_test_pred = lm.predict(X_test_fs1)\n",
    "y_train_pred = lm.predict(X_train_fs1)"
   ]
  },
  {
   "cell_type": "code",
   "execution_count": 53,
   "metadata": {
    "colab": {
     "base_uri": "https://localhost:8080/"
    },
    "executionInfo": {
     "elapsed": 25,
     "status": "ok",
     "timestamp": 1637425850427,
     "user": {
      "displayName": "Pablo Casas",
      "photoUrl": "https://lh3.googleusercontent.com/a-/AOh14GjjU0er16GSqEPLzL4ejmRN9PRF31hbKQSdxJoro5Y=s64",
      "userId": "18285785648963943721"
     },
     "user_tz": 180
    },
    "id": "vd3n-Fnw0Qqp",
    "outputId": "078cc05d-5936-4634-e051-baae0e8c4247"
   },
   "outputs": [
    {
     "name": "stdout",
     "output_type": "stream",
     "text": [
      "Train error: 38.042240\n",
      "Test error: 46.366983\n",
      "Precision del modelo: 0.553200\n"
     ]
    }
   ],
   "source": [
    "train_error = mean_squared_error(y_train, y_train_pred)\n",
    "test_error = mean_squared_error(y_test, y_test_pred)\n",
    "score3=lm.score(X_train_fs1,y_train)\n",
    "print(f'Train error: {train_error:f}')\n",
    "print(f'Test error: {test_error:f}')\n",
    "print(f'Precision del modelo: {score3:f}')"
   ]
  },
  {
   "cell_type": "code",
   "execution_count": 54,
   "metadata": {
    "executionInfo": {
     "elapsed": 23,
     "status": "ok",
     "timestamp": 1637425850428,
     "user": {
      "displayName": "Pablo Casas",
      "photoUrl": "https://lh3.googleusercontent.com/a-/AOh14GjjU0er16GSqEPLzL4ejmRN9PRF31hbKQSdxJoro5Y=s64",
      "userId": "18285785648963943721"
     },
     "user_tz": 180
    },
    "id": "VY_Rk26DHZCX"
   },
   "outputs": [],
   "source": [
    "#regresión polinominal con mas de dos atributos.\n",
    "X_train_fp2 = X_train[:,selector]\n",
    "X_test_fp2 = X_test[:,selector]\n",
    "\n",
    "degree = 2\n",
    "pf = PolynomialFeatures(degree)\n",
    "lr = LinearRegression(fit_intercept=False)  # el bias ya esta como feature\n",
    "\n",
    "model = make_pipeline(pf, lr)\n",
    "\n",
    "\n",
    "model.fit(X_train_fp2, y_train)\n",
    "\n",
    "y_train_pred = model.predict(X_train_fp2)\n",
    "y_test_pred = model.predict(X_test_fp2)\n"
   ]
  },
  {
   "cell_type": "code",
   "execution_count": 55,
   "metadata": {
    "colab": {
     "base_uri": "https://localhost:8080/"
    },
    "executionInfo": {
     "elapsed": 23,
     "status": "ok",
     "timestamp": 1637425850428,
     "user": {
      "displayName": "Pablo Casas",
      "photoUrl": "https://lh3.googleusercontent.com/a-/AOh14GjjU0er16GSqEPLzL4ejmRN9PRF31hbKQSdxJoro5Y=s64",
      "userId": "18285785648963943721"
     },
     "user_tz": 180
    },
    "id": "3c52WQAvH5YX",
    "outputId": "e5f9cc93-38df-4f90-f8e2-6db48f064dac"
   },
   "outputs": [
    {
     "name": "stdout",
     "output_type": "stream",
     "text": [
      "Train error: 29.872\n",
      "Test error: 39.6\n",
      "Precision del modelo: 0.553200\n"
     ]
    }
   ],
   "source": [
    "train_error = mean_squared_error(y_train, y_train_pred)\n",
    "test_error = mean_squared_error(y_test, y_test_pred)\n",
    "score4=lm.score(X_train_fp2,y_train)\n",
    "print(f'Train error: {train_error:0.5}')\n",
    "print(f'Test error: {test_error:0.3}')\n",
    "print(f'Precision del modelo: {score4:f}')"
   ]
  },
  {
   "cell_type": "markdown",
   "metadata": {
    "id": "XGPyTe0wFBLl"
   },
   "source": [
    "Al agregar las columnas LSTLS y AGE podemos ver como nuestro modelo se fue optimizando. Esto es debido al aumento de la cantidad de datos que nos permitieron obtener otras relaciones con la variable que deseamos predecir.  Claramente al inyectarle mayor información al modelo obtenemos resultados con mejorar sustanciables."
   ]
  },
  {
   "cell_type": "code",
   "execution_count": 172,
   "metadata": {
    "executionInfo": {
     "elapsed": 20,
     "status": "ok",
     "timestamp": 1637425850429,
     "user": {
      "displayName": "Pablo Casas",
      "photoUrl": "https://lh3.googleusercontent.com/a-/AOh14GjjU0er16GSqEPLzL4ejmRN9PRF31hbKQSdxJoro5Y=s64",
      "userId": "18285785648963943721"
     },
     "user_tz": 180
    },
    "id": "f1u2EH4VGwVM"
   },
   "outputs": [],
   "source": []
  }
 ],
 "metadata": {
  "colab": {
   "collapsed_sections": [],
   "name": "Lab 1_revb.ipynb",
   "provenance": [],
   "toc_visible": true
  },
  "kernelspec": {
   "display_name": "Python 3",
   "language": "python",
   "name": "python3"
  },
  "language_info": {
   "codemirror_mode": {
    "name": "ipython",
    "version": 3
   },
   "file_extension": ".py",
   "mimetype": "text/x-python",
   "name": "python",
   "nbconvert_exporter": "python",
   "pygments_lexer": "ipython3",
   "version": "3.8.10"
  }
 },
 "nbformat": 4,
 "nbformat_minor": 4
}
